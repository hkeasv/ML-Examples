{
 "cells": [
  {
   "cell_type": "markdown",
   "metadata": {},
   "source": [
    "# Training using the Fashion MNIST dataset\n",
    "We will train and evaluate an MLP on the Fashion MNIST dataset. It consists of 70.000 grayscale images of 28x28 pixels each, and there are 10 classes.\n",
    "\n",
    "Hyperparameters:\n",
    "1. Optimizer: Stochastic Gradient Descent\n",
    "2. Activation function: RELU\n",
    "3. Weight initialization: Default (glorot_uniform)"
   ]
  },
  {
   "cell_type": "markdown",
   "metadata": {},
   "source": [
    "## Setup"
   ]
  },
  {
   "cell_type": "code",
   "execution_count": 1,
   "metadata": {},
   "outputs": [],
   "source": [
    "# Common imports\n",
    "import sys\n",
    "import os\n",
    "import sklearn\n",
    "import numpy as np\n",
    "import pandas as pd\n",
    "import tensorflow as tf\n",
    "from tensorflow import keras\n",
    "\n",
    "# to make this notebook's output stable across runs\n",
    "np.random.seed(42)\n",
    "tf.random.set_seed(42)\n",
    "\n",
    "# To plot pretty figures\n",
    "%matplotlib inline\n",
    "import matplotlib.pyplot as plt\n",
    "\n",
    "# Ignore useless warnings (see SciPy issue #5998)\n",
    "import warnings\n",
    "warnings.filterwarnings(action=\"ignore\", message=\"^internal gelsd\")"
   ]
  },
  {
   "cell_type": "markdown",
   "metadata": {},
   "source": [
    "## Load the data"
   ]
  },
  {
   "cell_type": "code",
   "execution_count": 2,
   "metadata": {},
   "outputs": [],
   "source": [
    "fashion_mnist = keras.datasets.fashion_mnist\n",
    "(X_train_full, y_train_full), (X_test, y_test) = fashion_mnist.load_data()"
   ]
  },
  {
   "cell_type": "code",
   "execution_count": 3,
   "metadata": {},
   "outputs": [],
   "source": [
    "# Split the full training set into a validation set and a (smaller) training set.\n",
    "# Normalize the data\n",
    "X_valid, X_train = X_train_full[:5000] / 255.0, X_train_full[5000:] / 255.0\n",
    "y_valid, y_train = y_train_full[:5000], y_train_full[5000:]\n",
    "X_test = X_test / 255.0"
   ]
  },
  {
   "cell_type": "code",
   "execution_count": 4,
   "metadata": {},
   "outputs": [
    {
     "data": {
      "text/plain": [
       "(55000, 28, 28)"
      ]
     },
     "execution_count": 4,
     "metadata": {},
     "output_type": "execute_result"
    }
   ],
   "source": [
    "X_train.shape"
   ]
  },
  {
   "cell_type": "markdown",
   "metadata": {},
   "source": [
    "## Create a model using the Sequential API"
   ]
  },
  {
   "cell_type": "code",
   "execution_count": 5,
   "metadata": {},
   "outputs": [],
   "source": [
    "model = keras.models.Sequential()\n",
    "# Input layer:\n",
    "model.add(keras.layers.Flatten(input_shape=[28, 28]))\n",
    "\n",
    "# Hidden layers:\n",
    "for layer in range(3):\n",
    "    model.add(keras.layers.Dense(100, activation=\"relu\"))\n",
    "        \n",
    "# Output layer.\n",
    "model.add(keras.layers.Dense(10, activation=\"softmax\"))"
   ]
  },
  {
   "cell_type": "markdown",
   "metadata": {},
   "source": [
    "## Compile the model\n",
    "You must at least specify the loss function and the optimizer to use. You can also specify a list of additional metrics to use during training and evaluation."
   ]
  },
  {
   "cell_type": "code",
   "execution_count": 6,
   "metadata": {},
   "outputs": [],
   "source": [
    "model.compile(loss=\"sparse_categorical_crossentropy\",\n",
    "              optimizer=\"sgd\",\n",
    "              metrics=[\"accuracy\"])"
   ]
  },
  {
   "cell_type": "markdown",
   "metadata": {},
   "source": [
    "## Train the model"
   ]
  },
  {
   "cell_type": "code",
   "execution_count": 7,
   "metadata": {},
   "outputs": [
    {
     "name": "stdout",
     "output_type": "stream",
     "text": [
      "Epoch 1/60\n",
      "1719/1719 [==============================] - 1s 758us/step - loss: 0.7890 - accuracy: 0.7365 - val_loss: 0.5701 - val_accuracy: 0.7962\n",
      "Epoch 2/60\n",
      "1719/1719 [==============================] - 1s 733us/step - loss: 0.5066 - accuracy: 0.8208 - val_loss: 0.4483 - val_accuracy: 0.8426\n",
      "Epoch 3/60\n",
      "1719/1719 [==============================] - 1s 737us/step - loss: 0.4539 - accuracy: 0.8395 - val_loss: 0.5631 - val_accuracy: 0.7892\n",
      "Epoch 4/60\n",
      "1719/1719 [==============================] - 1s 723us/step - loss: 0.4236 - accuracy: 0.8515 - val_loss: 0.4008 - val_accuracy: 0.8618\n",
      "Epoch 5/60\n",
      "1719/1719 [==============================] - 1s 719us/step - loss: 0.4026 - accuracy: 0.8574 - val_loss: 0.3873 - val_accuracy: 0.8610\n",
      "Epoch 6/60\n",
      "1719/1719 [==============================] - 1s 716us/step - loss: 0.3822 - accuracy: 0.8642 - val_loss: 0.3753 - val_accuracy: 0.8684\n",
      "Epoch 7/60\n",
      "1719/1719 [==============================] - 1s 709us/step - loss: 0.3687 - accuracy: 0.8692 - val_loss: 0.3668 - val_accuracy: 0.8726\n",
      "Epoch 8/60\n",
      "1719/1719 [==============================] - 1s 732us/step - loss: 0.3569 - accuracy: 0.8726 - val_loss: 0.3785 - val_accuracy: 0.8638\n",
      "Epoch 9/60\n",
      "1719/1719 [==============================] - 1s 727us/step - loss: 0.3457 - accuracy: 0.8765 - val_loss: 0.3599 - val_accuracy: 0.8684\n",
      "Epoch 10/60\n",
      "1719/1719 [==============================] - 1s 705us/step - loss: 0.3361 - accuracy: 0.8791 - val_loss: 0.3501 - val_accuracy: 0.8712\n",
      "Epoch 11/60\n",
      "1719/1719 [==============================] - 1s 694us/step - loss: 0.3277 - accuracy: 0.8811 - val_loss: 0.3432 - val_accuracy: 0.8732\n",
      "Epoch 12/60\n",
      "1719/1719 [==============================] - 1s 716us/step - loss: 0.3183 - accuracy: 0.8844 - val_loss: 0.3326 - val_accuracy: 0.8800\n",
      "Epoch 13/60\n",
      "1719/1719 [==============================] - 1s 756us/step - loss: 0.3118 - accuracy: 0.8866 - val_loss: 0.3365 - val_accuracy: 0.8800\n",
      "Epoch 14/60\n",
      "1719/1719 [==============================] - 1s 716us/step - loss: 0.3063 - accuracy: 0.8884 - val_loss: 0.3477 - val_accuracy: 0.8708\n",
      "Epoch 15/60\n",
      "1719/1719 [==============================] - 1s 730us/step - loss: 0.2986 - accuracy: 0.8916 - val_loss: 0.3386 - val_accuracy: 0.8758\n",
      "Epoch 16/60\n",
      "1719/1719 [==============================] - 1s 718us/step - loss: 0.2935 - accuracy: 0.8940 - val_loss: 0.3179 - val_accuracy: 0.8822\n",
      "Epoch 17/60\n",
      "1719/1719 [==============================] - 1s 733us/step - loss: 0.2886 - accuracy: 0.8944 - val_loss: 0.3585 - val_accuracy: 0.8698\n",
      "Epoch 18/60\n",
      "1719/1719 [==============================] - 1s 729us/step - loss: 0.2820 - accuracy: 0.8968 - val_loss: 0.3230 - val_accuracy: 0.8870\n",
      "Epoch 19/60\n",
      "1719/1719 [==============================] - 1s 686us/step - loss: 0.2777 - accuracy: 0.8999 - val_loss: 0.3405 - val_accuracy: 0.8762\n",
      "Epoch 20/60\n",
      "1719/1719 [==============================] - 1s 713us/step - loss: 0.2726 - accuracy: 0.9008 - val_loss: 0.3423 - val_accuracy: 0.8770\n",
      "Epoch 21/60\n",
      "1719/1719 [==============================] - 1s 681us/step - loss: 0.2676 - accuracy: 0.9016 - val_loss: 0.3118 - val_accuracy: 0.8854\n",
      "Epoch 22/60\n",
      "1719/1719 [==============================] - 1s 739us/step - loss: 0.2634 - accuracy: 0.9031 - val_loss: 0.3066 - val_accuracy: 0.8902\n",
      "Epoch 23/60\n",
      "1719/1719 [==============================] - 1s 722us/step - loss: 0.2589 - accuracy: 0.9048 - val_loss: 0.3006 - val_accuracy: 0.8908\n",
      "Epoch 24/60\n",
      "1719/1719 [==============================] - 1s 755us/step - loss: 0.2552 - accuracy: 0.9064 - val_loss: 0.3107 - val_accuracy: 0.8850\n",
      "Epoch 25/60\n",
      "1719/1719 [==============================] - 1s 777us/step - loss: 0.2510 - accuracy: 0.9075 - val_loss: 0.3090 - val_accuracy: 0.8898\n",
      "Epoch 26/60\n",
      "1719/1719 [==============================] - 1s 830us/step - loss: 0.2472 - accuracy: 0.9095 - val_loss: 0.3124 - val_accuracy: 0.8882\n",
      "Epoch 27/60\n",
      "1719/1719 [==============================] - 1s 776us/step - loss: 0.2435 - accuracy: 0.9109 - val_loss: 0.3040 - val_accuracy: 0.8890\n",
      "Epoch 28/60\n",
      "1719/1719 [==============================] - 1s 745us/step - loss: 0.2396 - accuracy: 0.9127 - val_loss: 0.3075 - val_accuracy: 0.8842\n",
      "Epoch 29/60\n",
      "1719/1719 [==============================] - 1s 748us/step - loss: 0.2366 - accuracy: 0.9133 - val_loss: 0.3145 - val_accuracy: 0.8860\n",
      "Epoch 30/60\n",
      "1719/1719 [==============================] - 1s 744us/step - loss: 0.2332 - accuracy: 0.9153 - val_loss: 0.3145 - val_accuracy: 0.8876\n",
      "Epoch 31/60\n",
      "1719/1719 [==============================] - 1s 768us/step - loss: 0.2287 - accuracy: 0.9165 - val_loss: 0.2992 - val_accuracy: 0.8896\n",
      "Epoch 32/60\n",
      "1719/1719 [==============================] - 1s 784us/step - loss: 0.2265 - accuracy: 0.9169 - val_loss: 0.3044 - val_accuracy: 0.8884\n",
      "Epoch 33/60\n",
      "1719/1719 [==============================] - 1s 782us/step - loss: 0.2227 - accuracy: 0.9185 - val_loss: 0.3083 - val_accuracy: 0.8898\n",
      "Epoch 34/60\n",
      "1719/1719 [==============================] - 1s 761us/step - loss: 0.2199 - accuracy: 0.9193 - val_loss: 0.3080 - val_accuracy: 0.8870\n",
      "Epoch 35/60\n",
      "1719/1719 [==============================] - 1s 801us/step - loss: 0.2156 - accuracy: 0.9213 - val_loss: 0.2983 - val_accuracy: 0.8900\n",
      "Epoch 36/60\n",
      "1719/1719 [==============================] - 1s 787us/step - loss: 0.2142 - accuracy: 0.9207 - val_loss: 0.3033 - val_accuracy: 0.8910\n",
      "Epoch 37/60\n",
      "1719/1719 [==============================] - 1s 815us/step - loss: 0.2105 - accuracy: 0.9232 - val_loss: 0.2991 - val_accuracy: 0.8942\n",
      "Epoch 38/60\n",
      "1719/1719 [==============================] - 1s 790us/step - loss: 0.2066 - accuracy: 0.9247 - val_loss: 0.2971 - val_accuracy: 0.8882\n",
      "Epoch 39/60\n",
      "1719/1719 [==============================] - 1s 766us/step - loss: 0.2060 - accuracy: 0.9242 - val_loss: 0.3115 - val_accuracy: 0.8928\n",
      "Epoch 40/60\n",
      "1719/1719 [==============================] - 1s 770us/step - loss: 0.2017 - accuracy: 0.9260 - val_loss: 0.3197 - val_accuracy: 0.8856\n",
      "Epoch 41/60\n",
      "1719/1719 [==============================] - 1s 772us/step - loss: 0.1994 - accuracy: 0.9278 - val_loss: 0.2959 - val_accuracy: 0.8952\n",
      "Epoch 42/60\n",
      "1719/1719 [==============================] - 1s 772us/step - loss: 0.1963 - accuracy: 0.9284 - val_loss: 0.3028 - val_accuracy: 0.8918\n",
      "Epoch 43/60\n",
      "1719/1719 [==============================] - 1s 781us/step - loss: 0.1928 - accuracy: 0.9289 - val_loss: 0.3285 - val_accuracy: 0.8826\n",
      "Epoch 44/60\n",
      "1719/1719 [==============================] - 1s 788us/step - loss: 0.1911 - accuracy: 0.9307 - val_loss: 0.3094 - val_accuracy: 0.8904\n",
      "Epoch 45/60\n",
      "1719/1719 [==============================] - 1s 786us/step - loss: 0.1883 - accuracy: 0.9309 - val_loss: 0.3057 - val_accuracy: 0.8906\n",
      "Epoch 46/60\n",
      "1719/1719 [==============================] - 1s 804us/step - loss: 0.1847 - accuracy: 0.9331 - val_loss: 0.3154 - val_accuracy: 0.8938\n",
      "Epoch 47/60\n",
      "1719/1719 [==============================] - 1s 829us/step - loss: 0.1831 - accuracy: 0.9326 - val_loss: 0.3241 - val_accuracy: 0.8874\n",
      "Epoch 48/60\n",
      "1719/1719 [==============================] - 1s 789us/step - loss: 0.1809 - accuracy: 0.9336 - val_loss: 0.3375 - val_accuracy: 0.8836\n",
      "Epoch 49/60\n",
      "1719/1719 [==============================] - 1s 784us/step - loss: 0.1780 - accuracy: 0.9351 - val_loss: 0.3104 - val_accuracy: 0.8872\n",
      "Epoch 50/60\n",
      "1719/1719 [==============================] - 1s 776us/step - loss: 0.1760 - accuracy: 0.9364 - val_loss: 0.3407 - val_accuracy: 0.8836\n",
      "Epoch 51/60\n",
      "1719/1719 [==============================] - 1s 747us/step - loss: 0.1729 - accuracy: 0.9379 - val_loss: 0.3056 - val_accuracy: 0.8954\n"
     ]
    }
   ],
   "source": [
    "# EarlyStopping (with rollback to the best model).\n",
    "early_stopping = keras.callbacks.EarlyStopping(patience=10, restore_best_weights=True)\n",
    "\n",
    "# Train the model with early stopping.\n",
    "history = model.fit(X_train, y_train, epochs=60,\n",
    "                    validation_data=(X_valid, y_valid),\n",
    "                    callbacks=[early_stopping])"
   ]
  },
  {
   "cell_type": "code",
   "execution_count": 8,
   "metadata": {},
   "outputs": [
    {
     "data": {
      "image/png": "[encoded data removed]",
      "text/plain": [
       "<Figure size 576x360 with 1 Axes>"
      ]
     },
     "metadata": {
      "needs_background": "light"
     },
     "output_type": "display_data"
    }
   ],
   "source": [
    "# Show the learning curves.\n",
    "# (The training curves should be shifted half an epoch to the left to be completely comparable with\n",
    "# the validation curves).\n",
    "\n",
    "pd.DataFrame(history.history).plot(figsize=(8, 5))\n",
    "plt.grid(True)\n",
    "plt.gca().set_ylim(0, 1)\n",
    "plt.show()"
   ]
  },
  {
   "cell_type": "markdown",
   "metadata": {},
   "source": [
    "## Evaluate the model."
   ]
  },
  {
   "cell_type": "code",
   "execution_count": 9,
   "metadata": {},
   "outputs": [
    {
     "name": "stdout",
     "output_type": "stream",
     "text": [
      "313/313 [==============================] - 0s 549us/step - loss: 0.3235 - accuracy: 0.8899\n"
     ]
    },
    {
     "data": {
      "text/plain": [
       "[0.32349923253059387, 0.8899000287055969]"
      ]
     },
     "execution_count": 9,
     "metadata": {},
     "output_type": "execute_result"
    }
   ],
   "source": [
    "model.evaluate(X_test, y_test)"
   ]
  }
 ],
 "metadata": {
  "kernelspec": {
   "display_name": "Python 3 (ipykernel)",
   "language": "python",
   "name": "python3"
  },
  "language_info": {
   "codemirror_mode": {
    "name": "ipython",
    "version": 3
   },
   "file_extension": ".py",
   "mimetype": "text/x-python",
   "name": "python",
   "nbconvert_exporter": "python",
   "pygments_lexer": "ipython3",
   "version": "3.10.14"
  },
  "nav_menu": {
   "height": "264px",
   "width": "369px"
  },
  "toc": {
   "navigate_menu": true,
   "number_sections": true,
   "sideBar": true,
   "threshold": 6,
   "toc_cell": false,
   "toc_section_display": "block",
   "toc_window_display": false
  }
 },
 "nbformat": 4,
 "nbformat_minor": 4
}
