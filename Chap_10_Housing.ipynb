{
 "cells": [
  {
   "cell_type": "markdown",
   "metadata": {
    "id": "8FCuv1Qkpn_V"
   },
   "source": [
    "# MLP Regressor trained with the California housing dataset"
   ]
  },
  {
   "cell_type": "markdown",
   "metadata": {
    "id": "HgZOnJ-vpn_X"
   },
   "source": [
    "## Setup"
   ]
  },
  {
   "cell_type": "code",
   "execution_count": 1,
   "metadata": {
    "id": "WizM4unQpn_Y"
   },
   "outputs": [],
   "source": [
    "# Common imports\n",
    "import sys\n",
    "import os\n",
    "import sklearn\n",
    "import numpy as np\n",
    "import pandas as pd\n",
    "import tensorflow as tf\n",
    "from tensorflow import keras\n",
    "\n",
    "# to make this notebook's output stable across runs\n",
    "np.random.seed(42)\n",
    "tf.random.set_seed(42)\n",
    "\n",
    "# To plot pretty figures\n",
    "%matplotlib inline\n",
    "import matplotlib.pyplot as plt\n",
    "\n",
    "# Import the SSL module and configure certificate verification to be optional to avoid SSLCertVerificationError.\n",
    "import ssl\n",
    "ssl.SSLContext.verify_mode = ssl.VerifyMode.CERT_OPTIONAL\n",
    "\n",
    "# Ignore useless warnings (see SciPy issue #5998)\n",
    "import warnings\n",
    "warnings.filterwarnings(action=\"ignore\", message=\"^internal gelsd\")"
   ]
  },
  {
   "cell_type": "markdown",
   "metadata": {
    "id": "dAhJ2A_Kpn_Z"
   },
   "source": [
    "## Load and split the dataset"
   ]
  },
  {
   "cell_type": "code",
   "execution_count": 2,
   "metadata": {
    "id": "mpOM30iDpn_Z"
   },
   "outputs": [],
   "source": [
    "from sklearn.datasets import fetch_california_housing\n",
    "from sklearn.model_selection import train_test_split\n",
    "from sklearn.preprocessing import StandardScaler\n",
    "from sklearn.preprocessing import MinMaxScaler\n",
    "\n",
    "housing = fetch_california_housing()\n",
    "\n",
    "X_train_full, X_test, y_train_full, y_test = train_test_split(housing.data, housing.target, random_state=42)\n",
    "X_train, X_valid, y_train, y_valid = train_test_split(X_train_full, y_train_full, random_state=42)\n",
    "\n",
    "# We could scale the features using SciKitLearn's StandardScaler or MinMaxScaler,\n",
    "# but in this example we will use the Keras Normalization Layer instead.\n",
    "#scaler = StandardScaler()\n",
    "#X_train = scaler.fit_transform(X_train)\n",
    "#X_valid = scaler.transform(X_valid)\n",
    "#X_test = scaler.transform(X_test)"
   ]
  },
  {
   "cell_type": "code",
   "execution_count": 3,
   "metadata": {
    "colab": {
     "base_uri": "https://localhost:8080/"
    },
    "id": "TLLbArbxpn_Z",
    "outputId": "ecd6ef0a-2dd6-418c-855e-81b347837a41"
   },
   "outputs": [
    {
     "data": {
      "text/plain": [
       "['MedInc',\n",
       " 'HouseAge',\n",
       " 'AveRooms',\n",
       " 'AveBedrms',\n",
       " 'Population',\n",
       " 'AveOccup',\n",
       " 'Latitude',\n",
       " 'Longitude']"
      ]
     },
     "execution_count": 3,
     "metadata": {},
     "output_type": "execute_result"
    }
   ],
   "source": [
    "# Display the feature names.\n",
    "# Note that this dataset is not exactly the same as the \"housing\" dataset used in chapter 2.\n",
    "# As a result, we cannot completely compare the RMSE of this model with the RMSEs of the\n",
    "# other models that we trained and tested using the dataset from chapter 2.\n",
    "housing.feature_names"
   ]
  },
  {
   "cell_type": "code",
   "execution_count": 4,
   "metadata": {
    "id": "qCXFVlM_pn_a"
   },
   "outputs": [],
   "source": [
    "# Display the number of rows and columns in the features array."
   ]
  },
  {
   "cell_type": "code",
   "execution_count": 5,
   "metadata": {
    "colab": {
     "base_uri": "https://localhost:8080/"
    },
    "id": "tn-TfIhfpn_a",
    "outputId": "a0e39fb4-210b-464b-9cd6-fa8ef6faaba0"
   },
   "outputs": [
    {
     "data": {
      "text/plain": [
       "(20640, 8)"
      ]
     },
     "execution_count": 5,
     "metadata": {},
     "output_type": "execute_result"
    }
   ],
   "source": [
    "housing.data.shape"
   ]
  },
  {
   "cell_type": "code",
   "execution_count": 6,
   "metadata": {},
   "outputs": [],
   "source": [
    "# Computing the mean median_house_value.\n",
    "# We can see that the target value have been scaled down by a factor of 100000\n",
    "# compared to the unprepared Housing dataset that we have used earlier."
   ]
  },
  {
   "cell_type": "code",
   "execution_count": 7,
   "metadata": {},
   "outputs": [
    {
     "data": {
      "text/plain": [
       "2.068558169089147"
      ]
     },
     "execution_count": 7,
     "metadata": {},
     "output_type": "execute_result"
    }
   ],
   "source": [
    "housing.target.mean()"
   ]
  },
  {
   "cell_type": "markdown",
   "metadata": {
    "id": "qhgtjhYQpn_a"
   },
   "source": [
    "## Build, compile, train and evaluate a model"
   ]
  },
  {
   "cell_type": "code",
   "execution_count": 8,
   "metadata": {
    "id": "UdQWyA2Qpn_b",
    "scrolled": true
   },
   "outputs": [],
   "source": [
    "# Build a model.\n",
    "# We don't need to specify an input layer, since we don't need to convert the input array.\n",
    "# For regression problems, we don't use an activation function in the output layer.\n",
    "\n",
    "# Keras Normalization Layer. See:\n",
    "#   https://www.tensorflow.org/api_docs/python/tf/keras/layers/Normalization\n",
    "norm_layer = keras.layers.Normalization()\n",
    "\n",
    "model = keras.models.Sequential([\n",
    "    norm_layer,\n",
    "    # hidden layers\n",
    "    keras.layers.Dense(100, activation=\"relu\"),\n",
    "    keras.layers.Dense(100, activation=\"relu\"),\n",
    "    keras.layers.Dense(100, activation=\"relu\"),\n",
    "    keras.layers.Dense(100, activation=\"relu\"),\n",
    "    # output layer\n",
    "    keras.layers.Dense(1)\n",
    "])\n",
    "\n",
    "# Compile the model.\n",
    "# For regression problems, we use the \"mean_squared_error\" as loss function.\n",
    "model.compile(loss=\"mse\", optimizer=tf.keras.optimizers.SGD(learning_rate=0.001), metrics=[\"RootMeanSquaredError\"])\n",
    "\n",
    "# Normalize inputs.\n",
    "norm_layer.adapt(X_train)"
   ]
  },
  {
   "cell_type": "code",
   "execution_count": 9,
   "metadata": {
    "colab": {
     "base_uri": "https://localhost:8080/"
    },
    "id": "aXYx7GuUpn_b",
    "outputId": "92e60de2-c7f9-4276-c9ee-b4cdb8694082"
   },
   "outputs": [
    {
     "name": "stdout",
     "output_type": "stream",
     "text": [
      "Epoch 1/200\n",
      "\u001b[1m363/363\u001b[0m \u001b[32m━━━━━━━━━━━━━━━━━━━━\u001b[0m\u001b[37m\u001b[0m \u001b[1m0s\u001b[0m 444us/step - RootMeanSquaredError: 1.7196 - loss: 3.0503 - val_RootMeanSquaredError: 1.0621 - val_loss: 1.1280\n",
      "Epoch 2/200\n",
      "\u001b[1m363/363\u001b[0m \u001b[32m━━━━━━━━━━━━━━━━━━━━\u001b[0m\u001b[37m\u001b[0m \u001b[1m0s\u001b[0m 300us/step - RootMeanSquaredError: 0.9086 - loss: 0.8268 - val_RootMeanSquaredError: 0.8053 - val_loss: 0.6485\n",
      "Epoch 3/200\n",
      "\u001b[1m363/363\u001b[0m \u001b[32m━━━━━━━━━━━━━━━━━━━━\u001b[0m\u001b[37m\u001b[0m \u001b[1m0s\u001b[0m 323us/step - RootMeanSquaredError: 0.8196 - loss: 0.6727 - val_RootMeanSquaredError: 0.7453 - val_loss: 0.5555\n",
      "Epoch 4/200\n",
      "\u001b[1m363/363\u001b[0m \u001b[32m━━━━━━━━━━━━━━━━━━━━\u001b[0m\u001b[37m\u001b[0m \u001b[1m0s\u001b[0m 324us/step - RootMeanSquaredError: 0.7755 - loss: 0.6023 - val_RootMeanSquaredError: 0.7167 - val_loss: 0.5136\n",
      "Epoch 5/200\n",
      "\u001b[1m363/363\u001b[0m \u001b[32m━━━━━━━━━━━━━━━━━━━━\u001b[0m\u001b[37m\u001b[0m \u001b[1m0s\u001b[0m 314us/step - RootMeanSquaredError: 0.7424 - loss: 0.5520 - val_RootMeanSquaredError: 0.6906 - val_loss: 0.4769\n",
      "Epoch 6/200\n",
      "\u001b[1m363/363\u001b[0m \u001b[32m━━━━━━━━━━━━━━━━━━━━\u001b[0m\u001b[37m\u001b[0m \u001b[1m0s\u001b[0m 302us/step - RootMeanSquaredError: 0.7152 - loss: 0.5123 - val_RootMeanSquaredError: 0.6654 - val_loss: 0.4428\n",
      "Epoch 7/200\n",
      "\u001b[1m363/363\u001b[0m \u001b[32m━━━━━━━━━━━━━━━━━━━━\u001b[0m\u001b[37m\u001b[0m \u001b[1m0s\u001b[0m 315us/step - RootMeanSquaredError: 0.6928 - loss: 0.4806 - val_RootMeanSquaredError: 0.6442 - val_loss: 0.4150\n",
      "Epoch 8/200\n",
      "\u001b[1m363/363\u001b[0m \u001b[32m━━━━━━━━━━━━━━━━━━━━\u001b[0m\u001b[37m\u001b[0m \u001b[1m0s\u001b[0m 324us/step - RootMeanSquaredError: 0.6746 - loss: 0.4557 - val_RootMeanSquaredError: 0.6284 - val_loss: 0.3949\n",
      "Epoch 9/200\n",
      "\u001b[1m363/363\u001b[0m \u001b[32m━━━━━━━━━━━━━━━━━━━━\u001b[0m\u001b[37m\u001b[0m \u001b[1m0s\u001b[0m 299us/step - RootMeanSquaredError: 0.6600 - loss: 0.4361 - val_RootMeanSquaredError: 0.6174 - val_loss: 0.3812\n",
      "Epoch 10/200\n",
      "\u001b[1m363/363\u001b[0m \u001b[32m━━━━━━━━━━━━━━━━━━━━\u001b[0m\u001b[37m\u001b[0m \u001b[1m0s\u001b[0m 307us/step - RootMeanSquaredError: 0.6486 - loss: 0.4211 - val_RootMeanSquaredError: 0.6105 - val_loss: 0.3727\n",
      "Epoch 11/200\n",
      "\u001b[1m363/363\u001b[0m \u001b[32m━━━━━━━━━━━━━━━━━━━━\u001b[0m\u001b[37m\u001b[0m \u001b[1m0s\u001b[0m 314us/step - RootMeanSquaredError: 0.6396 - loss: 0.4095 - val_RootMeanSquaredError: 0.6059 - val_loss: 0.3671\n",
      "Epoch 12/200\n",
      "\u001b[1m363/363\u001b[0m \u001b[32m━━━━━━━━━━━━━━━━━━━━\u001b[0m\u001b[37m\u001b[0m \u001b[1m0s\u001b[0m 387us/step - RootMeanSquaredError: 0.6323 - loss: 0.4002 - val_RootMeanSquaredError: 0.6023 - val_loss: 0.3627\n",
      "Epoch 13/200\n",
      "\u001b[1m363/363\u001b[0m \u001b[32m━━━━━━━━━━━━━━━━━━━━\u001b[0m\u001b[37m\u001b[0m \u001b[1m0s\u001b[0m 312us/step - RootMeanSquaredError: 0.6263 - loss: 0.3925 - val_RootMeanSquaredError: 0.5993 - val_loss: 0.3592\n",
      "Epoch 14/200\n",
      "\u001b[1m363/363\u001b[0m \u001b[32m━━━━━━━━━━━━━━━━━━━━\u001b[0m\u001b[37m\u001b[0m \u001b[1m0s\u001b[0m 299us/step - RootMeanSquaredError: 0.6211 - loss: 0.3861 - val_RootMeanSquaredError: 0.5969 - val_loss: 0.3563\n",
      "Epoch 15/200\n",
      "\u001b[1m363/363\u001b[0m \u001b[32m━━━━━━━━━━━━━━━━━━━━\u001b[0m\u001b[37m\u001b[0m \u001b[1m0s\u001b[0m 306us/step - RootMeanSquaredError: 0.6168 - loss: 0.3807 - val_RootMeanSquaredError: 0.5948 - val_loss: 0.3538\n",
      "Epoch 16/200\n",
      "\u001b[1m363/363\u001b[0m \u001b[32m━━━━━━━━━━━━━━━━━━━━\u001b[0m\u001b[37m\u001b[0m \u001b[1m0s\u001b[0m 304us/step - RootMeanSquaredError: 0.6130 - loss: 0.3760 - val_RootMeanSquaredError: 0.5932 - val_loss: 0.3519\n",
      "Epoch 17/200\n",
      "\u001b[1m363/363\u001b[0m \u001b[32m━━━━━━━━━━━━━━━━━━━━\u001b[0m\u001b[37m\u001b[0m \u001b[1m0s\u001b[0m 312us/step - RootMeanSquaredError: 0.6098 - loss: 0.3721 - val_RootMeanSquaredError: 0.5917 - val_loss: 0.3501\n",
      "Epoch 18/200\n",
      "\u001b[1m363/363\u001b[0m \u001b[32m━━━━━━━━━━━━━━━━━━━━\u001b[0m\u001b[37m\u001b[0m \u001b[1m0s\u001b[0m 324us/step - RootMeanSquaredError: 0.6070 - loss: 0.3686 - val_RootMeanSquaredError: 0.5898 - val_loss: 0.3479\n",
      "Epoch 19/200\n",
      "\u001b[1m363/363\u001b[0m \u001b[32m━━━━━━━━━━━━━━━━━━━━\u001b[0m\u001b[37m\u001b[0m \u001b[1m0s\u001b[0m 320us/step - RootMeanSquaredError: 0.6044 - loss: 0.3656 - val_RootMeanSquaredError: 0.5875 - val_loss: 0.3452\n",
      "Epoch 20/200\n",
      "\u001b[1m363/363\u001b[0m \u001b[32m━━━━━━━━━━━━━━━━━━━━\u001b[0m\u001b[37m\u001b[0m \u001b[1m0s\u001b[0m 313us/step - RootMeanSquaredError: 0.6022 - loss: 0.3628 - val_RootMeanSquaredError: 0.5861 - val_loss: 0.3435\n",
      "Epoch 21/200\n",
      "\u001b[1m363/363\u001b[0m \u001b[32m━━━━━━━━━━━━━━━━━━━━\u001b[0m\u001b[37m\u001b[0m \u001b[1m0s\u001b[0m 311us/step - RootMeanSquaredError: 0.6001 - loss: 0.3603 - val_RootMeanSquaredError: 0.5843 - val_loss: 0.3414\n",
      "Epoch 22/200\n",
      "\u001b[1m363/363\u001b[0m \u001b[32m━━━━━━━━━━━━━━━━━━━━\u001b[0m\u001b[37m\u001b[0m \u001b[1m0s\u001b[0m 318us/step - RootMeanSquaredError: 0.5981 - loss: 0.3579 - val_RootMeanSquaredError: 0.5828 - val_loss: 0.3397\n",
      "Epoch 23/200\n",
      "\u001b[1m363/363\u001b[0m \u001b[32m━━━━━━━━━━━━━━━━━━━━\u001b[0m\u001b[37m\u001b[0m \u001b[1m0s\u001b[0m 309us/step - RootMeanSquaredError: 0.5963 - loss: 0.3558 - val_RootMeanSquaredError: 0.5824 - val_loss: 0.3392\n",
      "Epoch 24/200\n",
      "\u001b[1m363/363\u001b[0m \u001b[32m━━━━━━━━━━━━━━━━━━━━\u001b[0m\u001b[37m\u001b[0m \u001b[1m0s\u001b[0m 300us/step - RootMeanSquaredError: 0.5946 - loss: 0.3538 - val_RootMeanSquaredError: 0.5815 - val_loss: 0.3381\n",
      "Epoch 25/200\n",
      "\u001b[1m363/363\u001b[0m \u001b[32m━━━━━━━━━━━━━━━━━━━━\u001b[0m\u001b[37m\u001b[0m \u001b[1m0s\u001b[0m 302us/step - RootMeanSquaredError: 0.5930 - loss: 0.3519 - val_RootMeanSquaredError: 0.5817 - val_loss: 0.3384\n",
      "Epoch 26/200\n",
      "\u001b[1m363/363\u001b[0m \u001b[32m━━━━━━━━━━━━━━━━━━━━\u001b[0m\u001b[37m\u001b[0m \u001b[1m0s\u001b[0m 305us/step - RootMeanSquaredError: 0.5916 - loss: 0.3501 - val_RootMeanSquaredError: 0.5804 - val_loss: 0.3369\n",
      "Epoch 27/200\n",
      "\u001b[1m363/363\u001b[0m \u001b[32m━━━━━━━━━━━━━━━━━━━━\u001b[0m\u001b[37m\u001b[0m \u001b[1m0s\u001b[0m 301us/step - RootMeanSquaredError: 0.5902 - loss: 0.3485 - val_RootMeanSquaredError: 0.5796 - val_loss: 0.3360\n",
      "Epoch 28/200\n",
      "\u001b[1m363/363\u001b[0m \u001b[32m━━━━━━━━━━━━━━━━━━━━\u001b[0m\u001b[37m\u001b[0m \u001b[1m0s\u001b[0m 301us/step - RootMeanSquaredError: 0.5889 - loss: 0.3470 - val_RootMeanSquaredError: 0.5781 - val_loss: 0.3342\n",
      "Epoch 29/200\n",
      "\u001b[1m363/363\u001b[0m \u001b[32m━━━━━━━━━━━━━━━━━━━━\u001b[0m\u001b[37m\u001b[0m \u001b[1m0s\u001b[0m 308us/step - RootMeanSquaredError: 0.5876 - loss: 0.3454 - val_RootMeanSquaredError: 0.5772 - val_loss: 0.3332\n",
      "Epoch 30/200\n",
      "\u001b[1m363/363\u001b[0m \u001b[32m━━━━━━━━━━━━━━━━━━━━\u001b[0m\u001b[37m\u001b[0m \u001b[1m0s\u001b[0m 323us/step - RootMeanSquaredError: 0.5863 - loss: 0.3440 - val_RootMeanSquaredError: 0.5761 - val_loss: 0.3318\n",
      "Epoch 31/200\n",
      "\u001b[1m363/363\u001b[0m \u001b[32m━━━━━━━━━━━━━━━━━━━━\u001b[0m\u001b[37m\u001b[0m \u001b[1m0s\u001b[0m 313us/step - RootMeanSquaredError: 0.5851 - loss: 0.3426 - val_RootMeanSquaredError: 0.5752 - val_loss: 0.3309\n",
      "Epoch 32/200\n",
      "\u001b[1m363/363\u001b[0m \u001b[32m━━━━━━━━━━━━━━━━━━━━\u001b[0m\u001b[37m\u001b[0m \u001b[1m0s\u001b[0m 306us/step - RootMeanSquaredError: 0.5840 - loss: 0.3412 - val_RootMeanSquaredError: 0.5744 - val_loss: 0.3299\n",
      "Epoch 33/200\n",
      "\u001b[1m363/363\u001b[0m \u001b[32m━━━━━━━━━━━━━━━━━━━━\u001b[0m\u001b[37m\u001b[0m \u001b[1m0s\u001b[0m 316us/step - RootMeanSquaredError: 0.5828 - loss: 0.3399 - val_RootMeanSquaredError: 0.5734 - val_loss: 0.3288\n",
      "Epoch 34/200\n",
      "\u001b[1m363/363\u001b[0m \u001b[32m━━━━━━━━━━━━━━━━━━━━\u001b[0m\u001b[37m\u001b[0m \u001b[1m0s\u001b[0m 305us/step - RootMeanSquaredError: 0.5817 - loss: 0.3386 - val_RootMeanSquaredError: 0.5726 - val_loss: 0.3278\n",
      "Epoch 35/200\n",
      "\u001b[1m363/363\u001b[0m \u001b[32m━━━━━━━━━━━━━━━━━━━━\u001b[0m\u001b[37m\u001b[0m \u001b[1m0s\u001b[0m 300us/step - RootMeanSquaredError: 0.5806 - loss: 0.3373 - val_RootMeanSquaredError: 0.5725 - val_loss: 0.3278\n",
      "Epoch 36/200\n",
      "\u001b[1m363/363\u001b[0m \u001b[32m━━━━━━━━━━━━━━━━━━━━\u001b[0m\u001b[37m\u001b[0m \u001b[1m0s\u001b[0m 307us/step - RootMeanSquaredError: 0.5795 - loss: 0.3360 - val_RootMeanSquaredError: 0.5714 - val_loss: 0.3265\n",
      "Epoch 37/200\n",
      "\u001b[1m363/363\u001b[0m \u001b[32m━━━━━━━━━━━━━━━━━━━━\u001b[0m\u001b[37m\u001b[0m \u001b[1m0s\u001b[0m 305us/step - RootMeanSquaredError: 0.5785 - loss: 0.3348 - val_RootMeanSquaredError: 0.5705 - val_loss: 0.3255\n",
      "Epoch 38/200\n",
      "\u001b[1m363/363\u001b[0m \u001b[32m━━━━━━━━━━━━━━━━━━━━\u001b[0m\u001b[37m\u001b[0m \u001b[1m0s\u001b[0m 305us/step - RootMeanSquaredError: 0.5775 - loss: 0.3336 - val_RootMeanSquaredError: 0.5701 - val_loss: 0.3250\n",
      "Epoch 39/200\n",
      "\u001b[1m363/363\u001b[0m \u001b[32m━━━━━━━━━━━━━━━━━━━━\u001b[0m\u001b[37m\u001b[0m \u001b[1m0s\u001b[0m 376us/step - RootMeanSquaredError: 0.5764 - loss: 0.3324 - val_RootMeanSquaredError: 0.5693 - val_loss: 0.3241\n",
      "Epoch 40/200\n",
      "\u001b[1m363/363\u001b[0m \u001b[32m━━━━━━━━━━━━━━━━━━━━\u001b[0m\u001b[37m\u001b[0m \u001b[1m0s\u001b[0m 303us/step - RootMeanSquaredError: 0.5755 - loss: 0.3313 - val_RootMeanSquaredError: 0.5674 - val_loss: 0.3219\n",
      "Epoch 41/200\n",
      "\u001b[1m363/363\u001b[0m \u001b[32m━━━━━━━━━━━━━━━━━━━━\u001b[0m\u001b[37m\u001b[0m \u001b[1m0s\u001b[0m 304us/step - RootMeanSquaredError: 0.5745 - loss: 0.3302 - val_RootMeanSquaredError: 0.5670 - val_loss: 0.3215\n",
      "Epoch 42/200\n",
      "\u001b[1m363/363\u001b[0m \u001b[32m━━━━━━━━━━━━━━━━━━━━\u001b[0m\u001b[37m\u001b[0m \u001b[1m0s\u001b[0m 329us/step - RootMeanSquaredError: 0.5735 - loss: 0.3291 - val_RootMeanSquaredError: 0.5641 - val_loss: 0.3182\n",
      "Epoch 43/200\n",
      "\u001b[1m363/363\u001b[0m \u001b[32m━━━━━━━━━━━━━━━━━━━━\u001b[0m\u001b[37m\u001b[0m \u001b[1m0s\u001b[0m 307us/step - RootMeanSquaredError: 0.5726 - loss: 0.3281 - val_RootMeanSquaredError: 0.5648 - val_loss: 0.3190\n",
      "Epoch 44/200\n",
      "\u001b[1m363/363\u001b[0m \u001b[32m━━━━━━━━━━━━━━━━━━━━\u001b[0m\u001b[37m\u001b[0m \u001b[1m0s\u001b[0m 307us/step - RootMeanSquaredError: 0.5718 - loss: 0.3271 - val_RootMeanSquaredError: 0.5600 - val_loss: 0.3136\n",
      "Epoch 45/200\n",
      "\u001b[1m363/363\u001b[0m \u001b[32m━━━━━━━━━━━━━━━━━━━━\u001b[0m\u001b[37m\u001b[0m \u001b[1m0s\u001b[0m 303us/step - RootMeanSquaredError: 0.5709 - loss: 0.3260 - val_RootMeanSquaredError: 0.5610 - val_loss: 0.3147\n",
      "Epoch 46/200\n",
      "\u001b[1m363/363\u001b[0m \u001b[32m━━━━━━━━━━━━━━━━━━━━\u001b[0m\u001b[37m\u001b[0m \u001b[1m0s\u001b[0m 304us/step - RootMeanSquaredError: 0.5700 - loss: 0.3251 - val_RootMeanSquaredError: 0.5585 - val_loss: 0.3120\n",
      "Epoch 47/200\n",
      "\u001b[1m363/363\u001b[0m \u001b[32m━━━━━━━━━━━━━━━━━━━━\u001b[0m\u001b[37m\u001b[0m \u001b[1m0s\u001b[0m 305us/step - RootMeanSquaredError: 0.5692 - loss: 0.3241 - val_RootMeanSquaredError: 0.5587 - val_loss: 0.3122\n",
      "Epoch 48/200\n",
      "\u001b[1m363/363\u001b[0m \u001b[32m━━━━━━━━━━━━━━━━━━━━\u001b[0m\u001b[37m\u001b[0m \u001b[1m0s\u001b[0m 313us/step - RootMeanSquaredError: 0.5684 - loss: 0.3232 - val_RootMeanSquaredError: 0.5577 - val_loss: 0.3110\n",
      "Epoch 49/200\n",
      "\u001b[1m363/363\u001b[0m \u001b[32m━━━━━━━━━━━━━━━━━━━━\u001b[0m\u001b[37m\u001b[0m \u001b[1m0s\u001b[0m 310us/step - RootMeanSquaredError: 0.5676 - loss: 0.3223 - val_RootMeanSquaredError: 0.5573 - val_loss: 0.3106\n",
      "Epoch 50/200\n",
      "\u001b[1m363/363\u001b[0m \u001b[32m━━━━━━━━━━━━━━━━━━━━\u001b[0m\u001b[37m\u001b[0m \u001b[1m0s\u001b[0m 310us/step - RootMeanSquaredError: 0.5668 - loss: 0.3214 - val_RootMeanSquaredError: 0.5562 - val_loss: 0.3094\n",
      "Epoch 51/200\n",
      "\u001b[1m363/363\u001b[0m \u001b[32m━━━━━━━━━━━━━━━━━━━━\u001b[0m\u001b[37m\u001b[0m \u001b[1m0s\u001b[0m 308us/step - RootMeanSquaredError: 0.5660 - loss: 0.3205 - val_RootMeanSquaredError: 0.5564 - val_loss: 0.3096\n",
      "Epoch 52/200\n",
      "\u001b[1m363/363\u001b[0m \u001b[32m━━━━━━━━━━━━━━━━━━━━\u001b[0m\u001b[37m\u001b[0m \u001b[1m0s\u001b[0m 311us/step - RootMeanSquaredError: 0.5652 - loss: 0.3196 - val_RootMeanSquaredError: 0.5529 - val_loss: 0.3057\n",
      "Epoch 53/200\n",
      "\u001b[1m363/363\u001b[0m \u001b[32m━━━━━━━━━━━━━━━━━━━━\u001b[0m\u001b[37m\u001b[0m \u001b[1m0s\u001b[0m 310us/step - RootMeanSquaredError: 0.5645 - loss: 0.3187 - val_RootMeanSquaredError: 0.5537 - val_loss: 0.3065\n",
      "Epoch 54/200\n",
      "\u001b[1m363/363\u001b[0m \u001b[32m━━━━━━━━━━━━━━━━━━━━\u001b[0m\u001b[37m\u001b[0m \u001b[1m0s\u001b[0m 315us/step - RootMeanSquaredError: 0.5637 - loss: 0.3179 - val_RootMeanSquaredError: 0.5521 - val_loss: 0.3048\n",
      "Epoch 55/200\n",
      "\u001b[1m363/363\u001b[0m \u001b[32m━━━━━━━━━━━━━━━━━━━━\u001b[0m\u001b[37m\u001b[0m \u001b[1m0s\u001b[0m 314us/step - RootMeanSquaredError: 0.5629 - loss: 0.3170 - val_RootMeanSquaredError: 0.5519 - val_loss: 0.3046\n",
      "Epoch 56/200\n",
      "\u001b[1m363/363\u001b[0m \u001b[32m━━━━━━━━━━━━━━━━━━━━\u001b[0m\u001b[37m\u001b[0m \u001b[1m0s\u001b[0m 318us/step - RootMeanSquaredError: 0.5622 - loss: 0.3162 - val_RootMeanSquaredError: 0.5506 - val_loss: 0.3032\n",
      "Epoch 57/200\n",
      "\u001b[1m363/363\u001b[0m \u001b[32m━━━━━━━━━━━━━━━━━━━━\u001b[0m\u001b[37m\u001b[0m \u001b[1m0s\u001b[0m 319us/step - RootMeanSquaredError: 0.5614 - loss: 0.3154 - val_RootMeanSquaredError: 0.5507 - val_loss: 0.3033\n",
      "Epoch 58/200\n",
      "\u001b[1m363/363\u001b[0m \u001b[32m━━━━━━━━━━━━━━━━━━━━\u001b[0m\u001b[37m\u001b[0m \u001b[1m0s\u001b[0m 320us/step - RootMeanSquaredError: 0.5607 - loss: 0.3145 - val_RootMeanSquaredError: 0.5496 - val_loss: 0.3021\n",
      "Epoch 59/200\n",
      "\u001b[1m363/363\u001b[0m \u001b[32m━━━━━━━━━━━━━━━━━━━━\u001b[0m\u001b[37m\u001b[0m \u001b[1m0s\u001b[0m 398us/step - RootMeanSquaredError: 0.5600 - loss: 0.3137 - val_RootMeanSquaredError: 0.5490 - val_loss: 0.3014\n",
      "Epoch 60/200\n",
      "\u001b[1m363/363\u001b[0m \u001b[32m━━━━━━━━━━━━━━━━━━━━\u001b[0m\u001b[37m\u001b[0m \u001b[1m0s\u001b[0m 320us/step - RootMeanSquaredError: 0.5593 - loss: 0.3129 - val_RootMeanSquaredError: 0.5485 - val_loss: 0.3008\n",
      "Epoch 61/200\n",
      "\u001b[1m363/363\u001b[0m \u001b[32m━━━━━━━━━━━━━━━━━━━━\u001b[0m\u001b[37m\u001b[0m \u001b[1m0s\u001b[0m 316us/step - RootMeanSquaredError: 0.5586 - loss: 0.3122 - val_RootMeanSquaredError: 0.5475 - val_loss: 0.2997\n",
      "Epoch 62/200\n",
      "\u001b[1m363/363\u001b[0m \u001b[32m━━━━━━━━━━━━━━━━━━━━\u001b[0m\u001b[37m\u001b[0m \u001b[1m0s\u001b[0m 320us/step - RootMeanSquaredError: 0.5579 - loss: 0.3114 - val_RootMeanSquaredError: 0.5467 - val_loss: 0.2989\n",
      "Epoch 63/200\n",
      "\u001b[1m363/363\u001b[0m \u001b[32m━━━━━━━━━━━━━━━━━━━━\u001b[0m\u001b[37m\u001b[0m \u001b[1m0s\u001b[0m 320us/step - RootMeanSquaredError: 0.5572 - loss: 0.3106 - val_RootMeanSquaredError: 0.5463 - val_loss: 0.2985\n",
      "Epoch 64/200\n",
      "\u001b[1m363/363\u001b[0m \u001b[32m━━━━━━━━━━━━━━━━━━━━\u001b[0m\u001b[37m\u001b[0m \u001b[1m0s\u001b[0m 314us/step - RootMeanSquaredError: 0.5565 - loss: 0.3099 - val_RootMeanSquaredError: 0.5455 - val_loss: 0.2976\n",
      "Epoch 65/200\n",
      "\u001b[1m363/363\u001b[0m \u001b[32m━━━━━━━━━━━━━━━━━━━━\u001b[0m\u001b[37m\u001b[0m \u001b[1m0s\u001b[0m 320us/step - RootMeanSquaredError: 0.5558 - loss: 0.3090 - val_RootMeanSquaredError: 0.5452 - val_loss: 0.2972\n",
      "Epoch 66/200\n",
      "\u001b[1m363/363\u001b[0m \u001b[32m━━━━━━━━━━━━━━━━━━━━\u001b[0m\u001b[37m\u001b[0m \u001b[1m0s\u001b[0m 321us/step - RootMeanSquaredError: 0.5551 - loss: 0.3083 - val_RootMeanSquaredError: 0.5441 - val_loss: 0.2961\n",
      "Epoch 67/200\n",
      "\u001b[1m363/363\u001b[0m \u001b[32m━━━━━━━━━━━━━━━━━━━━\u001b[0m\u001b[37m\u001b[0m \u001b[1m0s\u001b[0m 325us/step - RootMeanSquaredError: 0.5544 - loss: 0.3075 - val_RootMeanSquaredError: 0.5442 - val_loss: 0.2962\n",
      "Epoch 68/200\n",
      "\u001b[1m363/363\u001b[0m \u001b[32m━━━━━━━━━━━━━━━━━━━━\u001b[0m\u001b[37m\u001b[0m \u001b[1m0s\u001b[0m 317us/step - RootMeanSquaredError: 0.5537 - loss: 0.3067 - val_RootMeanSquaredError: 0.5434 - val_loss: 0.2953\n",
      "Epoch 69/200\n",
      "\u001b[1m363/363\u001b[0m \u001b[32m━━━━━━━━━━━━━━━━━━━━\u001b[0m\u001b[37m\u001b[0m \u001b[1m0s\u001b[0m 324us/step - RootMeanSquaredError: 0.5530 - loss: 0.3059 - val_RootMeanSquaredError: 0.5433 - val_loss: 0.2952\n",
      "Epoch 70/200\n",
      "\u001b[1m363/363\u001b[0m \u001b[32m━━━━━━━━━━━━━━━━━━━━\u001b[0m\u001b[37m\u001b[0m \u001b[1m0s\u001b[0m 318us/step - RootMeanSquaredError: 0.5523 - loss: 0.3052 - val_RootMeanSquaredError: 0.5428 - val_loss: 0.2946\n",
      "Epoch 71/200\n",
      "\u001b[1m363/363\u001b[0m \u001b[32m━━━━━━━━━━━━━━━━━━━━\u001b[0m\u001b[37m\u001b[0m \u001b[1m0s\u001b[0m 316us/step - RootMeanSquaredError: 0.5517 - loss: 0.3045 - val_RootMeanSquaredError: 0.5425 - val_loss: 0.2943\n",
      "Epoch 72/200\n",
      "\u001b[1m363/363\u001b[0m \u001b[32m━━━━━━━━━━━━━━━━━━━━\u001b[0m\u001b[37m\u001b[0m \u001b[1m0s\u001b[0m 321us/step - RootMeanSquaredError: 0.5510 - loss: 0.3038 - val_RootMeanSquaredError: 0.5413 - val_loss: 0.2930\n",
      "Epoch 73/200\n",
      "\u001b[1m363/363\u001b[0m \u001b[32m━━━━━━━━━━━━━━━━━━━━\u001b[0m\u001b[37m\u001b[0m \u001b[1m0s\u001b[0m 322us/step - RootMeanSquaredError: 0.5504 - loss: 0.3031 - val_RootMeanSquaredError: 0.5416 - val_loss: 0.2933\n",
      "Epoch 74/200\n",
      "\u001b[1m363/363\u001b[0m \u001b[32m━━━━━━━━━━━━━━━━━━━━\u001b[0m\u001b[37m\u001b[0m \u001b[1m0s\u001b[0m 319us/step - RootMeanSquaredError: 0.5498 - loss: 0.3024 - val_RootMeanSquaredError: 0.5406 - val_loss: 0.2923\n",
      "Epoch 75/200\n",
      "\u001b[1m363/363\u001b[0m \u001b[32m━━━━━━━━━━━━━━━━━━━━\u001b[0m\u001b[37m\u001b[0m \u001b[1m0s\u001b[0m 406us/step - RootMeanSquaredError: 0.5491 - loss: 0.3017 - val_RootMeanSquaredError: 0.5406 - val_loss: 0.2923\n",
      "Epoch 76/200\n",
      "\u001b[1m363/363\u001b[0m \u001b[32m━━━━━━━━━━━━━━━━━━━━\u001b[0m\u001b[37m\u001b[0m \u001b[1m0s\u001b[0m 322us/step - RootMeanSquaredError: 0.5485 - loss: 0.3010 - val_RootMeanSquaredError: 0.5395 - val_loss: 0.2911\n",
      "Epoch 77/200\n",
      "\u001b[1m363/363\u001b[0m \u001b[32m━━━━━━━━━━━━━━━━━━━━\u001b[0m\u001b[37m\u001b[0m \u001b[1m0s\u001b[0m 321us/step - RootMeanSquaredError: 0.5478 - loss: 0.3003 - val_RootMeanSquaredError: 0.5399 - val_loss: 0.2915\n",
      "Epoch 78/200\n",
      "\u001b[1m363/363\u001b[0m \u001b[32m━━━━━━━━━━━━━━━━━━━━\u001b[0m\u001b[37m\u001b[0m \u001b[1m0s\u001b[0m 315us/step - RootMeanSquaredError: 0.5472 - loss: 0.2996 - val_RootMeanSquaredError: 0.5387 - val_loss: 0.2902\n",
      "Epoch 79/200\n",
      "\u001b[1m363/363\u001b[0m \u001b[32m━━━━━━━━━━━━━━━━━━━━\u001b[0m\u001b[37m\u001b[0m \u001b[1m0s\u001b[0m 312us/step - RootMeanSquaredError: 0.5466 - loss: 0.2989 - val_RootMeanSquaredError: 0.5390 - val_loss: 0.2905\n",
      "Epoch 80/200\n",
      "\u001b[1m363/363\u001b[0m \u001b[32m━━━━━━━━━━━━━━━━━━━━\u001b[0m\u001b[37m\u001b[0m \u001b[1m0s\u001b[0m 324us/step - RootMeanSquaredError: 0.5460 - loss: 0.2982 - val_RootMeanSquaredError: 0.5379 - val_loss: 0.2893\n",
      "Epoch 81/200\n",
      "\u001b[1m363/363\u001b[0m \u001b[32m━━━━━━━━━━━━━━━━━━━━\u001b[0m\u001b[37m\u001b[0m \u001b[1m0s\u001b[0m 319us/step - RootMeanSquaredError: 0.5453 - loss: 0.2975 - val_RootMeanSquaredError: 0.5384 - val_loss: 0.2899\n",
      "Epoch 82/200\n",
      "\u001b[1m363/363\u001b[0m \u001b[32m━━━━━━━━━━━━━━━━━━━━\u001b[0m\u001b[37m\u001b[0m \u001b[1m0s\u001b[0m 316us/step - RootMeanSquaredError: 0.5447 - loss: 0.2968 - val_RootMeanSquaredError: 0.5369 - val_loss: 0.2882\n",
      "Epoch 83/200\n",
      "\u001b[1m363/363\u001b[0m \u001b[32m━━━━━━━━━━━━━━━━━━━━\u001b[0m\u001b[37m\u001b[0m \u001b[1m0s\u001b[0m 320us/step - RootMeanSquaredError: 0.5440 - loss: 0.2961 - val_RootMeanSquaredError: 0.5377 - val_loss: 0.2891\n",
      "Epoch 84/200\n",
      "\u001b[1m363/363\u001b[0m \u001b[32m━━━━━━━━━━━━━━━━━━━━\u001b[0m\u001b[37m\u001b[0m \u001b[1m0s\u001b[0m 312us/step - RootMeanSquaredError: 0.5435 - loss: 0.2955 - val_RootMeanSquaredError: 0.5364 - val_loss: 0.2877\n",
      "Epoch 85/200\n",
      "\u001b[1m363/363\u001b[0m \u001b[32m━━━━━━━━━━━━━━━━━━━━\u001b[0m\u001b[37m\u001b[0m \u001b[1m0s\u001b[0m 312us/step - RootMeanSquaredError: 0.5428 - loss: 0.2948 - val_RootMeanSquaredError: 0.5370 - val_loss: 0.2884\n",
      "Epoch 86/200\n",
      "\u001b[1m363/363\u001b[0m \u001b[32m━━━━━━━━━━━━━━━━━━━━\u001b[0m\u001b[37m\u001b[0m \u001b[1m0s\u001b[0m 310us/step - RootMeanSquaredError: 0.5422 - loss: 0.2941 - val_RootMeanSquaredError: 0.5356 - val_loss: 0.2868\n",
      "Epoch 87/200\n",
      "\u001b[1m363/363\u001b[0m \u001b[32m━━━━━━━━━━━━━━━━━━━━\u001b[0m\u001b[37m\u001b[0m \u001b[1m0s\u001b[0m 305us/step - RootMeanSquaredError: 0.5417 - loss: 0.2935 - val_RootMeanSquaredError: 0.5363 - val_loss: 0.2876\n",
      "Epoch 88/200\n",
      "\u001b[1m363/363\u001b[0m \u001b[32m━━━━━━━━━━━━━━━━━━━━\u001b[0m\u001b[37m\u001b[0m \u001b[1m0s\u001b[0m 375us/step - RootMeanSquaredError: 0.5411 - loss: 0.2929 - val_RootMeanSquaredError: 0.5351 - val_loss: 0.2864\n",
      "Epoch 89/200\n",
      "\u001b[1m363/363\u001b[0m \u001b[32m━━━━━━━━━━━━━━━━━━━━\u001b[0m\u001b[37m\u001b[0m \u001b[1m0s\u001b[0m 310us/step - RootMeanSquaredError: 0.5406 - loss: 0.2923 - val_RootMeanSquaredError: 0.5354 - val_loss: 0.2867\n",
      "Epoch 90/200\n",
      "\u001b[1m363/363\u001b[0m \u001b[32m━━━━━━━━━━━━━━━━━━━━\u001b[0m\u001b[37m\u001b[0m \u001b[1m0s\u001b[0m 309us/step - RootMeanSquaredError: 0.5401 - loss: 0.2918 - val_RootMeanSquaredError: 0.5344 - val_loss: 0.2856\n",
      "Epoch 91/200\n",
      "\u001b[1m363/363\u001b[0m \u001b[32m━━━━━━━━━━━━━━━━━━━━\u001b[0m\u001b[37m\u001b[0m \u001b[1m0s\u001b[0m 307us/step - RootMeanSquaredError: 0.5395 - loss: 0.2912 - val_RootMeanSquaredError: 0.5346 - val_loss: 0.2858\n",
      "Epoch 92/200\n",
      "\u001b[1m363/363\u001b[0m \u001b[32m━━━━━━━━━━━━━━━━━━━━\u001b[0m\u001b[37m\u001b[0m \u001b[1m0s\u001b[0m 305us/step - RootMeanSquaredError: 0.5390 - loss: 0.2906 - val_RootMeanSquaredError: 0.5337 - val_loss: 0.2848\n",
      "Epoch 93/200\n",
      "\u001b[1m363/363\u001b[0m \u001b[32m━━━━━━━━━━━━━━━━━━━━\u001b[0m\u001b[37m\u001b[0m \u001b[1m0s\u001b[0m 306us/step - RootMeanSquaredError: 0.5385 - loss: 0.2901 - val_RootMeanSquaredError: 0.5342 - val_loss: 0.2853\n",
      "Epoch 94/200\n",
      "\u001b[1m363/363\u001b[0m \u001b[32m━━━━━━━━━━━━━━━━━━━━\u001b[0m\u001b[37m\u001b[0m \u001b[1m0s\u001b[0m 306us/step - RootMeanSquaredError: 0.5379 - loss: 0.2895 - val_RootMeanSquaredError: 0.5333 - val_loss: 0.2844\n",
      "Epoch 95/200\n",
      "\u001b[1m363/363\u001b[0m \u001b[32m━━━━━━━━━━━━━━━━━━━━\u001b[0m\u001b[37m\u001b[0m \u001b[1m0s\u001b[0m 304us/step - RootMeanSquaredError: 0.5374 - loss: 0.2889 - val_RootMeanSquaredError: 0.5334 - val_loss: 0.2845\n",
      "Epoch 96/200\n",
      "\u001b[1m363/363\u001b[0m \u001b[32m━━━━━━━━━━━━━━━━━━━━\u001b[0m\u001b[37m\u001b[0m \u001b[1m0s\u001b[0m 304us/step - RootMeanSquaredError: 0.5370 - loss: 0.2884 - val_RootMeanSquaredError: 0.5326 - val_loss: 0.2836\n",
      "Epoch 97/200\n",
      "\u001b[1m363/363\u001b[0m \u001b[32m━━━━━━━━━━━━━━━━━━━━\u001b[0m\u001b[37m\u001b[0m \u001b[1m0s\u001b[0m 306us/step - RootMeanSquaredError: 0.5364 - loss: 0.2879 - val_RootMeanSquaredError: 0.5326 - val_loss: 0.2837\n",
      "Epoch 98/200\n",
      "\u001b[1m363/363\u001b[0m \u001b[32m━━━━━━━━━━━━━━━━━━━━\u001b[0m\u001b[37m\u001b[0m \u001b[1m0s\u001b[0m 309us/step - RootMeanSquaredError: 0.5360 - loss: 0.2874 - val_RootMeanSquaredError: 0.5321 - val_loss: 0.2832\n",
      "Epoch 99/200\n",
      "\u001b[1m363/363\u001b[0m \u001b[32m━━━━━━━━━━━━━━━━━━━━\u001b[0m\u001b[37m\u001b[0m \u001b[1m0s\u001b[0m 310us/step - RootMeanSquaredError: 0.5355 - loss: 0.2868 - val_RootMeanSquaredError: 0.5321 - val_loss: 0.2831\n",
      "Epoch 100/200\n",
      "\u001b[1m363/363\u001b[0m \u001b[32m━━━━━━━━━━━━━━━━━━━━\u001b[0m\u001b[37m\u001b[0m \u001b[1m0s\u001b[0m 314us/step - RootMeanSquaredError: 0.5350 - loss: 0.2863 - val_RootMeanSquaredError: 0.5318 - val_loss: 0.2828\n",
      "Epoch 101/200\n",
      "\u001b[1m363/363\u001b[0m \u001b[32m━━━━━━━━━━━━━━━━━━━━\u001b[0m\u001b[37m\u001b[0m \u001b[1m0s\u001b[0m 384us/step - RootMeanSquaredError: 0.5345 - loss: 0.2858 - val_RootMeanSquaredError: 0.5317 - val_loss: 0.2827\n",
      "Epoch 102/200\n",
      "\u001b[1m363/363\u001b[0m \u001b[32m━━━━━━━━━━━━━━━━━━━━\u001b[0m\u001b[37m\u001b[0m \u001b[1m0s\u001b[0m 308us/step - RootMeanSquaredError: 0.5341 - loss: 0.2854 - val_RootMeanSquaredError: 0.5312 - val_loss: 0.2822\n",
      "Epoch 103/200\n",
      "\u001b[1m363/363\u001b[0m \u001b[32m━━━━━━━━━━━━━━━━━━━━\u001b[0m\u001b[37m\u001b[0m \u001b[1m0s\u001b[0m 310us/step - RootMeanSquaredError: 0.5336 - loss: 0.2849 - val_RootMeanSquaredError: 0.5310 - val_loss: 0.2819\n",
      "Epoch 104/200\n",
      "\u001b[1m363/363\u001b[0m \u001b[32m━━━━━━━━━━━━━━━━━━━━\u001b[0m\u001b[37m\u001b[0m \u001b[1m0s\u001b[0m 310us/step - RootMeanSquaredError: 0.5332 - loss: 0.2844 - val_RootMeanSquaredError: 0.5308 - val_loss: 0.2817\n",
      "Epoch 105/200\n",
      "\u001b[1m363/363\u001b[0m \u001b[32m━━━━━━━━━━━━━━━━━━━━\u001b[0m\u001b[37m\u001b[0m \u001b[1m0s\u001b[0m 322us/step - RootMeanSquaredError: 0.5327 - loss: 0.2839 - val_RootMeanSquaredError: 0.5304 - val_loss: 0.2813\n",
      "Epoch 106/200\n",
      "\u001b[1m363/363\u001b[0m \u001b[32m━━━━━━━━━━━━━━━━━━━━\u001b[0m\u001b[37m\u001b[0m \u001b[1m0s\u001b[0m 308us/step - RootMeanSquaredError: 0.5323 - loss: 0.2835 - val_RootMeanSquaredError: 0.5301 - val_loss: 0.2810\n",
      "Epoch 107/200\n",
      "\u001b[1m363/363\u001b[0m \u001b[32m━━━━━━━━━━━━━━━━━━━━\u001b[0m\u001b[37m\u001b[0m \u001b[1m0s\u001b[0m 312us/step - RootMeanSquaredError: 0.5319 - loss: 0.2830 - val_RootMeanSquaredError: 0.5299 - val_loss: 0.2808\n",
      "Epoch 108/200\n",
      "\u001b[1m363/363\u001b[0m \u001b[32m━━━━━━━━━━━━━━━━━━━━\u001b[0m\u001b[37m\u001b[0m \u001b[1m0s\u001b[0m 307us/step - RootMeanSquaredError: 0.5314 - loss: 0.2825 - val_RootMeanSquaredError: 0.5295 - val_loss: 0.2803\n",
      "Epoch 109/200\n",
      "\u001b[1m363/363\u001b[0m \u001b[32m━━━━━━━━━━━━━━━━━━━━\u001b[0m\u001b[37m\u001b[0m \u001b[1m0s\u001b[0m 308us/step - RootMeanSquaredError: 0.5310 - loss: 0.2820 - val_RootMeanSquaredError: 0.5293 - val_loss: 0.2802\n",
      "Epoch 110/200\n",
      "\u001b[1m363/363\u001b[0m \u001b[32m━━━━━━━━━━━━━━━━━━━━\u001b[0m\u001b[37m\u001b[0m \u001b[1m0s\u001b[0m 315us/step - RootMeanSquaredError: 0.5305 - loss: 0.2816 - val_RootMeanSquaredError: 0.5291 - val_loss: 0.2799\n",
      "Epoch 111/200\n",
      "\u001b[1m363/363\u001b[0m \u001b[32m━━━━━━━━━━━━━━━━━━━━\u001b[0m\u001b[37m\u001b[0m \u001b[1m0s\u001b[0m 313us/step - RootMeanSquaredError: 0.5301 - loss: 0.2811 - val_RootMeanSquaredError: 0.5288 - val_loss: 0.2796\n",
      "Epoch 112/200\n",
      "\u001b[1m363/363\u001b[0m \u001b[32m━━━━━━━━━━━━━━━━━━━━\u001b[0m\u001b[37m\u001b[0m \u001b[1m0s\u001b[0m 315us/step - RootMeanSquaredError: 0.5297 - loss: 0.2806 - val_RootMeanSquaredError: 0.5285 - val_loss: 0.2793\n",
      "Epoch 113/200\n",
      "\u001b[1m363/363\u001b[0m \u001b[32m━━━━━━━━━━━━━━━━━━━━\u001b[0m\u001b[37m\u001b[0m \u001b[1m0s\u001b[0m 390us/step - RootMeanSquaredError: 0.5292 - loss: 0.2802 - val_RootMeanSquaredError: 0.5281 - val_loss: 0.2789\n",
      "Epoch 114/200\n",
      "\u001b[1m363/363\u001b[0m \u001b[32m━━━━━━━━━━━━━━━━━━━━\u001b[0m\u001b[37m\u001b[0m \u001b[1m0s\u001b[0m 319us/step - RootMeanSquaredError: 0.5288 - loss: 0.2797 - val_RootMeanSquaredError: 0.5279 - val_loss: 0.2786\n",
      "Epoch 115/200\n",
      "\u001b[1m363/363\u001b[0m \u001b[32m━━━━━━━━━━━━━━━━━━━━\u001b[0m\u001b[37m\u001b[0m \u001b[1m0s\u001b[0m 314us/step - RootMeanSquaredError: 0.5284 - loss: 0.2792 - val_RootMeanSquaredError: 0.5276 - val_loss: 0.2784\n",
      "Epoch 116/200\n",
      "\u001b[1m363/363\u001b[0m \u001b[32m━━━━━━━━━━━━━━━━━━━━\u001b[0m\u001b[37m\u001b[0m \u001b[1m0s\u001b[0m 319us/step - RootMeanSquaredError: 0.5279 - loss: 0.2788 - val_RootMeanSquaredError: 0.5273 - val_loss: 0.2780\n",
      "Epoch 117/200\n",
      "\u001b[1m363/363\u001b[0m \u001b[32m━━━━━━━━━━━━━━━━━━━━\u001b[0m\u001b[37m\u001b[0m \u001b[1m0s\u001b[0m 319us/step - RootMeanSquaredError: 0.5275 - loss: 0.2784 - val_RootMeanSquaredError: 0.5272 - val_loss: 0.2779\n",
      "Epoch 118/200\n",
      "\u001b[1m363/363\u001b[0m \u001b[32m━━━━━━━━━━━━━━━━━━━━\u001b[0m\u001b[37m\u001b[0m \u001b[1m0s\u001b[0m 315us/step - RootMeanSquaredError: 0.5271 - loss: 0.2779 - val_RootMeanSquaredError: 0.5269 - val_loss: 0.2776\n",
      "Epoch 119/200\n",
      "\u001b[1m363/363\u001b[0m \u001b[32m━━━━━━━━━━━━━━━━━━━━\u001b[0m\u001b[37m\u001b[0m \u001b[1m0s\u001b[0m 314us/step - RootMeanSquaredError: 0.5267 - loss: 0.2775 - val_RootMeanSquaredError: 0.5268 - val_loss: 0.2775\n",
      "Epoch 120/200\n",
      "\u001b[1m363/363\u001b[0m \u001b[32m━━━━━━━━━━━━━━━━━━━━\u001b[0m\u001b[37m\u001b[0m \u001b[1m0s\u001b[0m 318us/step - RootMeanSquaredError: 0.5263 - loss: 0.2771 - val_RootMeanSquaredError: 0.5266 - val_loss: 0.2773\n",
      "Epoch 121/200\n",
      "\u001b[1m363/363\u001b[0m \u001b[32m━━━━━━━━━━━━━━━━━━━━\u001b[0m\u001b[37m\u001b[0m \u001b[1m0s\u001b[0m 316us/step - RootMeanSquaredError: 0.5259 - loss: 0.2767 - val_RootMeanSquaredError: 0.5263 - val_loss: 0.2770\n",
      "Epoch 122/200\n",
      "\u001b[1m363/363\u001b[0m \u001b[32m━━━━━━━━━━━━━━━━━━━━\u001b[0m\u001b[37m\u001b[0m \u001b[1m0s\u001b[0m 380us/step - RootMeanSquaredError: 0.5255 - loss: 0.2762 - val_RootMeanSquaredError: 0.5262 - val_loss: 0.2769\n",
      "Epoch 123/200\n",
      "\u001b[1m363/363\u001b[0m \u001b[32m━━━━━━━━━━━━━━━━━━━━\u001b[0m\u001b[37m\u001b[0m \u001b[1m0s\u001b[0m 311us/step - RootMeanSquaredError: 0.5251 - loss: 0.2758 - val_RootMeanSquaredError: 0.5260 - val_loss: 0.2766\n",
      "Epoch 124/200\n",
      "\u001b[1m363/363\u001b[0m \u001b[32m━━━━━━━━━━━━━━━━━━━━\u001b[0m\u001b[37m\u001b[0m \u001b[1m0s\u001b[0m 337us/step - RootMeanSquaredError: 0.5247 - loss: 0.2754 - val_RootMeanSquaredError: 0.5259 - val_loss: 0.2765\n",
      "Epoch 125/200\n",
      "\u001b[1m363/363\u001b[0m \u001b[32m━━━━━━━━━━━━━━━━━━━━\u001b[0m\u001b[37m\u001b[0m \u001b[1m0s\u001b[0m 316us/step - RootMeanSquaredError: 0.5243 - loss: 0.2750 - val_RootMeanSquaredError: 0.5257 - val_loss: 0.2763\n",
      "Epoch 126/200\n",
      "\u001b[1m363/363\u001b[0m \u001b[32m━━━━━━━━━━━━━━━━━━━━\u001b[0m\u001b[37m\u001b[0m \u001b[1m0s\u001b[0m 325us/step - RootMeanSquaredError: 0.5239 - loss: 0.2746 - val_RootMeanSquaredError: 0.5257 - val_loss: 0.2763\n",
      "Epoch 127/200\n",
      "\u001b[1m363/363\u001b[0m \u001b[32m━━━━━━━━━━━━━━━━━━━━\u001b[0m\u001b[37m\u001b[0m \u001b[1m0s\u001b[0m 311us/step - RootMeanSquaredError: 0.5235 - loss: 0.2742 - val_RootMeanSquaredError: 0.5254 - val_loss: 0.2760\n",
      "Epoch 128/200\n",
      "\u001b[1m363/363\u001b[0m \u001b[32m━━━━━━━━━━━━━━━━━━━━\u001b[0m\u001b[37m\u001b[0m \u001b[1m0s\u001b[0m 319us/step - RootMeanSquaredError: 0.5231 - loss: 0.2737 - val_RootMeanSquaredError: 0.5252 - val_loss: 0.2759\n",
      "Epoch 129/200\n",
      "\u001b[1m363/363\u001b[0m \u001b[32m━━━━━━━━━━━━━━━━━━━━\u001b[0m\u001b[37m\u001b[0m \u001b[1m0s\u001b[0m 315us/step - RootMeanSquaredError: 0.5228 - loss: 0.2734 - val_RootMeanSquaredError: 0.5251 - val_loss: 0.2757\n",
      "Epoch 130/200\n",
      "\u001b[1m363/363\u001b[0m \u001b[32m━━━━━━━━━━━━━━━━━━━━\u001b[0m\u001b[37m\u001b[0m \u001b[1m0s\u001b[0m 378us/step - RootMeanSquaredError: 0.5224 - loss: 0.2729 - val_RootMeanSquaredError: 0.5249 - val_loss: 0.2755\n",
      "Epoch 131/200\n",
      "\u001b[1m363/363\u001b[0m \u001b[32m━━━━━━━━━━━━━━━━━━━━\u001b[0m\u001b[37m\u001b[0m \u001b[1m0s\u001b[0m 312us/step - RootMeanSquaredError: 0.5220 - loss: 0.2726 - val_RootMeanSquaredError: 0.5248 - val_loss: 0.2754\n",
      "Epoch 132/200\n",
      "\u001b[1m363/363\u001b[0m \u001b[32m━━━━━━━━━━━━━━━━━━━━\u001b[0m\u001b[37m\u001b[0m \u001b[1m0s\u001b[0m 324us/step - RootMeanSquaredError: 0.5216 - loss: 0.2722 - val_RootMeanSquaredError: 0.5245 - val_loss: 0.2751\n",
      "Epoch 133/200\n",
      "\u001b[1m363/363\u001b[0m \u001b[32m━━━━━━━━━━━━━━━━━━━━\u001b[0m\u001b[37m\u001b[0m \u001b[1m0s\u001b[0m 316us/step - RootMeanSquaredError: 0.5213 - loss: 0.2718 - val_RootMeanSquaredError: 0.5244 - val_loss: 0.2750\n",
      "Epoch 134/200\n",
      "\u001b[1m363/363\u001b[0m \u001b[32m━━━━━━━━━━━━━━━━━━━━\u001b[0m\u001b[37m\u001b[0m \u001b[1m0s\u001b[0m 319us/step - RootMeanSquaredError: 0.5209 - loss: 0.2714 - val_RootMeanSquaredError: 0.5241 - val_loss: 0.2747\n",
      "Epoch 135/200\n",
      "\u001b[1m363/363\u001b[0m \u001b[32m━━━━━━━━━━━━━━━━━━━━\u001b[0m\u001b[37m\u001b[0m \u001b[1m0s\u001b[0m 311us/step - RootMeanSquaredError: 0.5206 - loss: 0.2711 - val_RootMeanSquaredError: 0.5241 - val_loss: 0.2747\n",
      "Epoch 136/200\n",
      "\u001b[1m363/363\u001b[0m \u001b[32m━━━━━━━━━━━━━━━━━━━━\u001b[0m\u001b[37m\u001b[0m \u001b[1m0s\u001b[0m 316us/step - RootMeanSquaredError: 0.5202 - loss: 0.2707 - val_RootMeanSquaredError: 0.5238 - val_loss: 0.2744\n",
      "Epoch 137/200\n",
      "\u001b[1m363/363\u001b[0m \u001b[32m━━━━━━━━━━━━━━━━━━━━\u001b[0m\u001b[37m\u001b[0m \u001b[1m0s\u001b[0m 320us/step - RootMeanSquaredError: 0.5198 - loss: 0.2703 - val_RootMeanSquaredError: 0.5238 - val_loss: 0.2743\n",
      "Epoch 138/200\n",
      "\u001b[1m363/363\u001b[0m \u001b[32m━━━━━━━━━━━━━━━━━━━━\u001b[0m\u001b[37m\u001b[0m \u001b[1m0s\u001b[0m 385us/step - RootMeanSquaredError: 0.5195 - loss: 0.2700 - val_RootMeanSquaredError: 0.5237 - val_loss: 0.2743\n",
      "Epoch 139/200\n",
      "\u001b[1m363/363\u001b[0m \u001b[32m━━━━━━━━━━━━━━━━━━━━\u001b[0m\u001b[37m\u001b[0m \u001b[1m0s\u001b[0m 308us/step - RootMeanSquaredError: 0.5191 - loss: 0.2696 - val_RootMeanSquaredError: 0.5233 - val_loss: 0.2738\n",
      "Epoch 140/200\n",
      "\u001b[1m363/363\u001b[0m \u001b[32m━━━━━━━━━━━━━━━━━━━━\u001b[0m\u001b[37m\u001b[0m \u001b[1m0s\u001b[0m 312us/step - RootMeanSquaredError: 0.5188 - loss: 0.2692 - val_RootMeanSquaredError: 0.5232 - val_loss: 0.2737\n",
      "Epoch 141/200\n",
      "\u001b[1m363/363\u001b[0m \u001b[32m━━━━━━━━━━━━━━━━━━━━\u001b[0m\u001b[37m\u001b[0m \u001b[1m0s\u001b[0m 313us/step - RootMeanSquaredError: 0.5185 - loss: 0.2689 - val_RootMeanSquaredError: 0.5230 - val_loss: 0.2736\n",
      "Epoch 142/200\n",
      "\u001b[1m363/363\u001b[0m \u001b[32m━━━━━━━━━━━━━━━━━━━━\u001b[0m\u001b[37m\u001b[0m \u001b[1m0s\u001b[0m 306us/step - RootMeanSquaredError: 0.5181 - loss: 0.2685 - val_RootMeanSquaredError: 0.5231 - val_loss: 0.2736\n",
      "Epoch 143/200\n",
      "\u001b[1m363/363\u001b[0m \u001b[32m━━━━━━━━━━━━━━━━━━━━\u001b[0m\u001b[37m\u001b[0m \u001b[1m0s\u001b[0m 313us/step - RootMeanSquaredError: 0.5178 - loss: 0.2682 - val_RootMeanSquaredError: 0.5230 - val_loss: 0.2735\n",
      "Epoch 144/200\n",
      "\u001b[1m363/363\u001b[0m \u001b[32m━━━━━━━━━━━━━━━━━━━━\u001b[0m\u001b[37m\u001b[0m \u001b[1m0s\u001b[0m 316us/step - RootMeanSquaredError: 0.5175 - loss: 0.2678 - val_RootMeanSquaredError: 0.5228 - val_loss: 0.2733\n",
      "Epoch 145/200\n",
      "\u001b[1m363/363\u001b[0m \u001b[32m━━━━━━━━━━━━━━━━━━━━\u001b[0m\u001b[37m\u001b[0m \u001b[1m0s\u001b[0m 310us/step - RootMeanSquaredError: 0.5171 - loss: 0.2675 - val_RootMeanSquaredError: 0.5227 - val_loss: 0.2733\n",
      "Epoch 146/200\n",
      "\u001b[1m363/363\u001b[0m \u001b[32m━━━━━━━━━━━━━━━━━━━━\u001b[0m\u001b[37m\u001b[0m \u001b[1m0s\u001b[0m 393us/step - RootMeanSquaredError: 0.5168 - loss: 0.2672 - val_RootMeanSquaredError: 0.5226 - val_loss: 0.2732\n",
      "Epoch 147/200\n",
      "\u001b[1m363/363\u001b[0m \u001b[32m━━━━━━━━━━━━━━━━━━━━\u001b[0m\u001b[37m\u001b[0m \u001b[1m0s\u001b[0m 315us/step - RootMeanSquaredError: 0.5165 - loss: 0.2669 - val_RootMeanSquaredError: 0.5224 - val_loss: 0.2729\n",
      "Epoch 148/200\n",
      "\u001b[1m363/363\u001b[0m \u001b[32m━━━━━━━━━━━━━━━━━━━━\u001b[0m\u001b[37m\u001b[0m \u001b[1m0s\u001b[0m 323us/step - RootMeanSquaredError: 0.5162 - loss: 0.2665 - val_RootMeanSquaredError: 0.5222 - val_loss: 0.2727\n",
      "Epoch 149/200\n",
      "\u001b[1m363/363\u001b[0m \u001b[32m━━━━━━━━━━━━━━━━━━━━\u001b[0m\u001b[37m\u001b[0m \u001b[1m0s\u001b[0m 319us/step - RootMeanSquaredError: 0.5159 - loss: 0.2662 - val_RootMeanSquaredError: 0.5222 - val_loss: 0.2727\n",
      "Epoch 150/200\n",
      "\u001b[1m363/363\u001b[0m \u001b[32m━━━━━━━━━━━━━━━━━━━━\u001b[0m\u001b[37m\u001b[0m \u001b[1m0s\u001b[0m 316us/step - RootMeanSquaredError: 0.5156 - loss: 0.2659 - val_RootMeanSquaredError: 0.5221 - val_loss: 0.2726\n",
      "Epoch 151/200\n",
      "\u001b[1m363/363\u001b[0m \u001b[32m━━━━━━━━━━━━━━━━━━━━\u001b[0m\u001b[37m\u001b[0m \u001b[1m0s\u001b[0m 315us/step - RootMeanSquaredError: 0.5153 - loss: 0.2656 - val_RootMeanSquaredError: 0.5221 - val_loss: 0.2726\n",
      "Epoch 152/200\n",
      "\u001b[1m363/363\u001b[0m \u001b[32m━━━━━━━━━━━━━━━━━━━━\u001b[0m\u001b[37m\u001b[0m \u001b[1m0s\u001b[0m 319us/step - RootMeanSquaredError: 0.5150 - loss: 0.2653 - val_RootMeanSquaredError: 0.5219 - val_loss: 0.2724\n",
      "Epoch 153/200\n",
      "\u001b[1m363/363\u001b[0m \u001b[32m━━━━━━━━━━━━━━━━━━━━\u001b[0m\u001b[37m\u001b[0m \u001b[1m0s\u001b[0m 379us/step - RootMeanSquaredError: 0.5147 - loss: 0.2649 - val_RootMeanSquaredError: 0.5217 - val_loss: 0.2722\n",
      "Epoch 154/200\n",
      "\u001b[1m363/363\u001b[0m \u001b[32m━━━━━━━━━━━━━━━━━━━━\u001b[0m\u001b[37m\u001b[0m \u001b[1m0s\u001b[0m 313us/step - RootMeanSquaredError: 0.5144 - loss: 0.2646 - val_RootMeanSquaredError: 0.5219 - val_loss: 0.2724\n",
      "Epoch 155/200\n",
      "\u001b[1m363/363\u001b[0m \u001b[32m━━━━━━━━━━━━━━━━━━━━\u001b[0m\u001b[37m\u001b[0m \u001b[1m0s\u001b[0m 318us/step - RootMeanSquaredError: 0.5141 - loss: 0.2643 - val_RootMeanSquaredError: 0.5216 - val_loss: 0.2721\n",
      "Epoch 156/200\n",
      "\u001b[1m363/363\u001b[0m \u001b[32m━━━━━━━━━━━━━━━━━━━━\u001b[0m\u001b[37m\u001b[0m \u001b[1m0s\u001b[0m 316us/step - RootMeanSquaredError: 0.5138 - loss: 0.2640 - val_RootMeanSquaredError: 0.5217 - val_loss: 0.2722\n",
      "Epoch 157/200\n",
      "\u001b[1m363/363\u001b[0m \u001b[32m━━━━━━━━━━━━━━━━━━━━\u001b[0m\u001b[37m\u001b[0m \u001b[1m0s\u001b[0m 313us/step - RootMeanSquaredError: 0.5135 - loss: 0.2637 - val_RootMeanSquaredError: 0.5215 - val_loss: 0.2719\n",
      "Epoch 158/200\n",
      "\u001b[1m363/363\u001b[0m \u001b[32m━━━━━━━━━━━━━━━━━━━━\u001b[0m\u001b[37m\u001b[0m \u001b[1m0s\u001b[0m 320us/step - RootMeanSquaredError: 0.5132 - loss: 0.2634 - val_RootMeanSquaredError: 0.5214 - val_loss: 0.2719\n",
      "Epoch 159/200\n",
      "\u001b[1m363/363\u001b[0m \u001b[32m━━━━━━━━━━━━━━━━━━━━\u001b[0m\u001b[37m\u001b[0m \u001b[1m0s\u001b[0m 317us/step - RootMeanSquaredError: 0.5129 - loss: 0.2631 - val_RootMeanSquaredError: 0.5215 - val_loss: 0.2719\n",
      "Epoch 160/200\n",
      "\u001b[1m363/363\u001b[0m \u001b[32m━━━━━━━━━━━━━━━━━━━━\u001b[0m\u001b[37m\u001b[0m \u001b[1m0s\u001b[0m 386us/step - RootMeanSquaredError: 0.5126 - loss: 0.2628 - val_RootMeanSquaredError: 0.5212 - val_loss: 0.2717\n",
      "Epoch 161/200\n",
      "\u001b[1m363/363\u001b[0m \u001b[32m━━━━━━━━━━━━━━━━━━━━\u001b[0m\u001b[37m\u001b[0m \u001b[1m0s\u001b[0m 313us/step - RootMeanSquaredError: 0.5123 - loss: 0.2625 - val_RootMeanSquaredError: 0.5211 - val_loss: 0.2716\n",
      "Epoch 162/200\n",
      "\u001b[1m363/363\u001b[0m \u001b[32m━━━━━━━━━━━━━━━━━━━━\u001b[0m\u001b[37m\u001b[0m \u001b[1m0s\u001b[0m 312us/step - RootMeanSquaredError: 0.5120 - loss: 0.2622 - val_RootMeanSquaredError: 0.5212 - val_loss: 0.2717\n",
      "Epoch 163/200\n",
      "\u001b[1m363/363\u001b[0m \u001b[32m━━━━━━━━━━━━━━━━━━━━\u001b[0m\u001b[37m\u001b[0m \u001b[1m0s\u001b[0m 318us/step - RootMeanSquaredError: 0.5118 - loss: 0.2620 - val_RootMeanSquaredError: 0.5209 - val_loss: 0.2714\n",
      "Epoch 164/200\n",
      "\u001b[1m363/363\u001b[0m \u001b[32m━━━━━━━━━━━━━━━━━━━━\u001b[0m\u001b[37m\u001b[0m \u001b[1m0s\u001b[0m 317us/step - RootMeanSquaredError: 0.5115 - loss: 0.2617 - val_RootMeanSquaredError: 0.5209 - val_loss: 0.2713\n",
      "Epoch 165/200\n",
      "\u001b[1m363/363\u001b[0m \u001b[32m━━━━━━━━━━━━━━━━━━━━\u001b[0m\u001b[37m\u001b[0m \u001b[1m0s\u001b[0m 320us/step - RootMeanSquaredError: 0.5112 - loss: 0.2614 - val_RootMeanSquaredError: 0.5210 - val_loss: 0.2714\n",
      "Epoch 166/200\n",
      "\u001b[1m363/363\u001b[0m \u001b[32m━━━━━━━━━━━━━━━━━━━━\u001b[0m\u001b[37m\u001b[0m \u001b[1m0s\u001b[0m 324us/step - RootMeanSquaredError: 0.5109 - loss: 0.2611 - val_RootMeanSquaredError: 0.5209 - val_loss: 0.2714\n",
      "Epoch 167/200\n",
      "\u001b[1m363/363\u001b[0m \u001b[32m━━━━━━━━━━━━━━━━━━━━\u001b[0m\u001b[37m\u001b[0m \u001b[1m0s\u001b[0m 386us/step - RootMeanSquaredError: 0.5106 - loss: 0.2608 - val_RootMeanSquaredError: 0.5207 - val_loss: 0.2711\n",
      "Epoch 168/200\n",
      "\u001b[1m363/363\u001b[0m \u001b[32m━━━━━━━━━━━━━━━━━━━━\u001b[0m\u001b[37m\u001b[0m \u001b[1m0s\u001b[0m 323us/step - RootMeanSquaredError: 0.5104 - loss: 0.2605 - val_RootMeanSquaredError: 0.5210 - val_loss: 0.2714\n",
      "Epoch 169/200\n",
      "\u001b[1m363/363\u001b[0m \u001b[32m━━━━━━━━━━━━━━━━━━━━\u001b[0m\u001b[37m\u001b[0m \u001b[1m0s\u001b[0m 321us/step - RootMeanSquaredError: 0.5101 - loss: 0.2603 - val_RootMeanSquaredError: 0.5204 - val_loss: 0.2709\n",
      "Epoch 170/200\n",
      "\u001b[1m363/363\u001b[0m \u001b[32m━━━━━━━━━━━━━━━━━━━━\u001b[0m\u001b[37m\u001b[0m \u001b[1m0s\u001b[0m 319us/step - RootMeanSquaredError: 0.5098 - loss: 0.2600 - val_RootMeanSquaredError: 0.5207 - val_loss: 0.2711\n",
      "Epoch 171/200\n",
      "\u001b[1m363/363\u001b[0m \u001b[32m━━━━━━━━━━━━━━━━━━━━\u001b[0m\u001b[37m\u001b[0m \u001b[1m0s\u001b[0m 319us/step - RootMeanSquaredError: 0.5096 - loss: 0.2597 - val_RootMeanSquaredError: 0.5205 - val_loss: 0.2709\n",
      "Epoch 172/200\n",
      "\u001b[1m363/363\u001b[0m \u001b[32m━━━━━━━━━━━━━━━━━━━━\u001b[0m\u001b[37m\u001b[0m \u001b[1m0s\u001b[0m 323us/step - RootMeanSquaredError: 0.5093 - loss: 0.2594 - val_RootMeanSquaredError: 0.5205 - val_loss: 0.2709\n",
      "Epoch 173/200\n",
      "\u001b[1m363/363\u001b[0m \u001b[32m━━━━━━━━━━━━━━━━━━━━\u001b[0m\u001b[37m\u001b[0m \u001b[1m0s\u001b[0m 383us/step - RootMeanSquaredError: 0.5090 - loss: 0.2591 - val_RootMeanSquaredError: 0.5204 - val_loss: 0.2708\n",
      "Epoch 174/200\n",
      "\u001b[1m363/363\u001b[0m \u001b[32m━━━━━━━━━━━━━━━━━━━━\u001b[0m\u001b[37m\u001b[0m \u001b[1m0s\u001b[0m 327us/step - RootMeanSquaredError: 0.5087 - loss: 0.2588 - val_RootMeanSquaredError: 0.5204 - val_loss: 0.2708\n",
      "Epoch 175/200\n",
      "\u001b[1m363/363\u001b[0m \u001b[32m━━━━━━━━━━━━━━━━━━━━\u001b[0m\u001b[37m\u001b[0m \u001b[1m0s\u001b[0m 322us/step - RootMeanSquaredError: 0.5084 - loss: 0.2586 - val_RootMeanSquaredError: 0.5203 - val_loss: 0.2707\n",
      "Epoch 176/200\n",
      "\u001b[1m363/363\u001b[0m \u001b[32m━━━━━━━━━━━━━━━━━━━━\u001b[0m\u001b[37m\u001b[0m \u001b[1m0s\u001b[0m 322us/step - RootMeanSquaredError: 0.5081 - loss: 0.2583 - val_RootMeanSquaredError: 0.5202 - val_loss: 0.2706\n",
      "Epoch 177/200\n",
      "\u001b[1m363/363\u001b[0m \u001b[32m━━━━━━━━━━━━━━━━━━━━\u001b[0m\u001b[37m\u001b[0m \u001b[1m0s\u001b[0m 320us/step - RootMeanSquaredError: 0.5079 - loss: 0.2580 - val_RootMeanSquaredError: 0.5202 - val_loss: 0.2706\n",
      "Epoch 178/200\n",
      "\u001b[1m363/363\u001b[0m \u001b[32m━━━━━━━━━━━━━━━━━━━━\u001b[0m\u001b[37m\u001b[0m \u001b[1m0s\u001b[0m 327us/step - RootMeanSquaredError: 0.5076 - loss: 0.2577 - val_RootMeanSquaredError: 0.5202 - val_loss: 0.2706\n",
      "Epoch 179/200\n",
      "\u001b[1m363/363\u001b[0m \u001b[32m━━━━━━━━━━━━━━━━━━━━\u001b[0m\u001b[37m\u001b[0m \u001b[1m0s\u001b[0m 321us/step - RootMeanSquaredError: 0.5073 - loss: 0.2574 - val_RootMeanSquaredError: 0.5200 - val_loss: 0.2704\n",
      "Epoch 180/200\n",
      "\u001b[1m363/363\u001b[0m \u001b[32m━━━━━━━━━━━━━━━━━━━━\u001b[0m\u001b[37m\u001b[0m \u001b[1m0s\u001b[0m 384us/step - RootMeanSquaredError: 0.5070 - loss: 0.2571 - val_RootMeanSquaredError: 0.5202 - val_loss: 0.2706\n",
      "Epoch 181/200\n",
      "\u001b[1m363/363\u001b[0m \u001b[32m━━━━━━━━━━━━━━━━━━━━\u001b[0m\u001b[37m\u001b[0m \u001b[1m0s\u001b[0m 316us/step - RootMeanSquaredError: 0.5067 - loss: 0.2568 - val_RootMeanSquaredError: 0.5198 - val_loss: 0.2702\n",
      "Epoch 182/200\n",
      "\u001b[1m363/363\u001b[0m \u001b[32m━━━━━━━━━━━━━━━━━━━━\u001b[0m\u001b[37m\u001b[0m \u001b[1m0s\u001b[0m 315us/step - RootMeanSquaredError: 0.5065 - loss: 0.2566 - val_RootMeanSquaredError: 0.5205 - val_loss: 0.2710\n",
      "Epoch 183/200\n",
      "\u001b[1m363/363\u001b[0m \u001b[32m━━━━━━━━━━━━━━━━━━━━\u001b[0m\u001b[37m\u001b[0m \u001b[1m0s\u001b[0m 313us/step - RootMeanSquaredError: 0.5062 - loss: 0.2563 - val_RootMeanSquaredError: 0.5193 - val_loss: 0.2697\n",
      "Epoch 184/200\n",
      "\u001b[1m363/363\u001b[0m \u001b[32m━━━━━━━━━━━━━━━━━━━━\u001b[0m\u001b[37m\u001b[0m \u001b[1m0s\u001b[0m 315us/step - RootMeanSquaredError: 0.5059 - loss: 0.2560 - val_RootMeanSquaredError: 0.5210 - val_loss: 0.2714\n",
      "Epoch 185/200\n",
      "\u001b[1m363/363\u001b[0m \u001b[32m━━━━━━━━━━━━━━━━━━━━\u001b[0m\u001b[37m\u001b[0m \u001b[1m0s\u001b[0m 327us/step - RootMeanSquaredError: 0.5056 - loss: 0.2557 - val_RootMeanSquaredError: 0.5192 - val_loss: 0.2696\n",
      "Epoch 186/200\n",
      "\u001b[1m363/363\u001b[0m \u001b[32m━━━━━━━━━━━━━━━━━━━━\u001b[0m\u001b[37m\u001b[0m \u001b[1m0s\u001b[0m 384us/step - RootMeanSquaredError: 0.5053 - loss: 0.2554 - val_RootMeanSquaredError: 0.5219 - val_loss: 0.2724\n",
      "Epoch 187/200\n",
      "\u001b[1m363/363\u001b[0m \u001b[32m━━━━━━━━━━━━━━━━━━━━\u001b[0m\u001b[37m\u001b[0m \u001b[1m0s\u001b[0m 329us/step - RootMeanSquaredError: 0.5050 - loss: 0.2551 - val_RootMeanSquaredError: 0.5196 - val_loss: 0.2700\n",
      "Epoch 188/200\n",
      "\u001b[1m363/363\u001b[0m \u001b[32m━━━━━━━━━━━━━━━━━━━━\u001b[0m\u001b[37m\u001b[0m \u001b[1m0s\u001b[0m 320us/step - RootMeanSquaredError: 0.5048 - loss: 0.2548 - val_RootMeanSquaredError: 0.5246 - val_loss: 0.2752\n",
      "Epoch 189/200\n",
      "\u001b[1m363/363\u001b[0m \u001b[32m━━━━━━━━━━━━━━━━━━━━\u001b[0m\u001b[37m\u001b[0m \u001b[1m0s\u001b[0m 317us/step - RootMeanSquaredError: 0.5045 - loss: 0.2546 - val_RootMeanSquaredError: 0.5224 - val_loss: 0.2729\n",
      "Epoch 190/200\n",
      "\u001b[1m363/363\u001b[0m \u001b[32m━━━━━━━━━━━━━━━━━━━━\u001b[0m\u001b[37m\u001b[0m \u001b[1m0s\u001b[0m 319us/step - RootMeanSquaredError: 0.5043 - loss: 0.2544 - val_RootMeanSquaredError: 0.5336 - val_loss: 0.2847\n",
      "Epoch 191/200\n",
      "\u001b[1m363/363\u001b[0m \u001b[32m━━━━━━━━━━━━━━━━━━━━\u001b[0m\u001b[37m\u001b[0m \u001b[1m0s\u001b[0m 315us/step - RootMeanSquaredError: 0.5040 - loss: 0.2540 - val_RootMeanSquaredError: 0.5357 - val_loss: 0.2870\n",
      "Epoch 192/200\n",
      "\u001b[1m363/363\u001b[0m \u001b[32m━━━━━━━━━━━━━━━━━━━━\u001b[0m\u001b[37m\u001b[0m \u001b[1m0s\u001b[0m 396us/step - RootMeanSquaredError: 0.5038 - loss: 0.2539 - val_RootMeanSquaredError: 0.5691 - val_loss: 0.3239\n",
      "Epoch 193/200\n",
      "\u001b[1m363/363\u001b[0m \u001b[32m━━━━━━━━━━━━━━━━━━━━\u001b[0m\u001b[37m\u001b[0m \u001b[1m0s\u001b[0m 319us/step - RootMeanSquaredError: 0.5036 - loss: 0.2537 - val_RootMeanSquaredError: 0.5790 - val_loss: 0.3353\n",
      "Epoch 194/200\n",
      "\u001b[1m363/363\u001b[0m \u001b[32m━━━━━━━━━━━━━━━━━━━━\u001b[0m\u001b[37m\u001b[0m \u001b[1m0s\u001b[0m 321us/step - RootMeanSquaredError: 0.5036 - loss: 0.2536 - val_RootMeanSquaredError: 0.6329 - val_loss: 0.4006\n",
      "Epoch 195/200\n",
      "\u001b[1m363/363\u001b[0m \u001b[32m━━━━━━━━━━━━━━━━━━━━\u001b[0m\u001b[37m\u001b[0m \u001b[1m0s\u001b[0m 323us/step - RootMeanSquaredError: 0.5033 - loss: 0.2534 - val_RootMeanSquaredError: 0.6464 - val_loss: 0.4178\n",
      "Epoch 196/200\n",
      "\u001b[1m363/363\u001b[0m \u001b[32m━━━━━━━━━━━━━━━━━━━━\u001b[0m\u001b[37m\u001b[0m \u001b[1m0s\u001b[0m 329us/step - RootMeanSquaredError: 0.5034 - loss: 0.2534 - val_RootMeanSquaredError: 0.6931 - val_loss: 0.4804\n",
      "Epoch 197/200\n",
      "\u001b[1m363/363\u001b[0m \u001b[32m━━━━━━━━━━━━━━━━━━━━\u001b[0m\u001b[37m\u001b[0m \u001b[1m0s\u001b[0m 388us/step - RootMeanSquaredError: 0.5031 - loss: 0.2532 - val_RootMeanSquaredError: 0.6467 - val_loss: 0.4183\n",
      "Epoch 198/200\n",
      "\u001b[1m363/363\u001b[0m \u001b[32m━━━━━━━━━━━━━━━━━━━━\u001b[0m\u001b[37m\u001b[0m \u001b[1m0s\u001b[0m 320us/step - RootMeanSquaredError: 0.5029 - loss: 0.2529 - val_RootMeanSquaredError: 0.6706 - val_loss: 0.4496\n",
      "Epoch 199/200\n",
      "\u001b[1m363/363\u001b[0m \u001b[32m━━━━━━━━━━━━━━━━━━━━\u001b[0m\u001b[37m\u001b[0m \u001b[1m0s\u001b[0m 322us/step - RootMeanSquaredError: 0.5025 - loss: 0.2525 - val_RootMeanSquaredError: 0.6113 - val_loss: 0.3737\n",
      "Epoch 200/200\n",
      "\u001b[1m363/363\u001b[0m \u001b[32m━━━━━━━━━━━━━━━━━━━━\u001b[0m\u001b[37m\u001b[0m \u001b[1m0s\u001b[0m 314us/step - RootMeanSquaredError: 0.5022 - loss: 0.2523 - val_RootMeanSquaredError: 0.6195 - val_loss: 0.3838\n"
     ]
    }
   ],
   "source": [
    "# Train the model.\n",
    "history = model.fit(X_train, y_train, epochs=200, validation_data=(X_valid, y_valid))"
   ]
  },
  {
   "cell_type": "code",
   "execution_count": 10,
   "metadata": {
    "colab": {
     "base_uri": "https://localhost:8080/",
     "height": 451
    },
    "id": "Z95S4Gd0pn_b",
    "outputId": "2e9c2a7b-8e2c-4db3-e866-5094207097cd"
   },
   "outputs": [
    {
     "data": {
      "image/png": "[encoded data removed]",
      "text/plain": [
       "<Figure size 800x500 with 1 Axes>"
      ]
     },
     "metadata": {},
     "output_type": "display_data"
    }
   ],
   "source": [
    "# Show the learning curves.\n",
    "pd.DataFrame(history.history).plot(figsize=(8, 5))\n",
    "plt.grid(True)\n",
    "plt.gca().set_ylim(0, 1)\n",
    "plt.show()"
   ]
  },
  {
   "cell_type": "code",
   "execution_count": 11,
   "metadata": {
    "colab": {
     "base_uri": "https://localhost:8080/"
    },
    "id": "5JRECEHspn_b",
    "outputId": "f56ab8d5-1e28-41f8-d8f6-20afc8b20315"
   },
   "outputs": [
    {
     "name": "stdout",
     "output_type": "stream",
     "text": [
      "\u001b[1m162/162\u001b[0m \u001b[32m━━━━━━━━━━━━━━━━━━━━\u001b[0m\u001b[37m\u001b[0m \u001b[1m0s\u001b[0m 180us/step - RootMeanSquaredError: 0.5237 - loss: 0.2745\n"
     ]
    }
   ],
   "source": [
    "# Evaluate the model (outputs the MSE).\n",
    "loss = model.evaluate(X_test, y_test)"
   ]
  },
  {
   "cell_type": "markdown",
   "metadata": {
    "id": "iRdy1iKkpn_b"
   },
   "source": [
    "<b>Observation:</b><br/>\n",
    "If we multipy the RMSE with 100000, we get the RMSE expressed in USD."
   ]
  },
  {
   "cell_type": "code",
   "execution_count": 12,
   "metadata": {
    "colab": {
     "base_uri": "https://localhost:8080/"
    },
    "id": "DKD4KAmCpn_b",
    "outputId": "f14eafe6-dd07-4756-a013-9bc18b967712"
   },
   "outputs": [
    {
     "name": "stdout",
     "output_type": "stream",
     "text": [
      "\u001b[1m1/1\u001b[0m \u001b[32m━━━━━━━━━━━━━━━━━━━━\u001b[0m\u001b[37m\u001b[0m \u001b[1m0s\u001b[0m 18ms/step\n"
     ]
    },
    {
     "data": {
      "text/plain": [
       "array([[0.5197495],\n",
       "       [1.0258766],\n",
       "       [4.9480677]], dtype=float32)"
      ]
     },
     "execution_count": 12,
     "metadata": {},
     "output_type": "execute_result"
    }
   ],
   "source": [
    "# Make predictions for the first 3 instances in the test set.\n",
    "X_new = X_test[:3]\n",
    "y_pred = model.predict(X_new)\n",
    "y_pred"
   ]
  },
  {
   "cell_type": "code",
   "execution_count": 13,
   "metadata": {
    "colab": {
     "base_uri": "https://localhost:8080/"
    },
    "id": "62dYeO6Hpn_b",
    "outputId": "1528db3d-b0aa-4ca6-ab58-757ced54aee5"
   },
   "outputs": [
    {
     "data": {
      "text/plain": [
       "array([0.477  , 0.458  , 5.00001])"
      ]
     },
     "execution_count": 13,
     "metadata": {},
     "output_type": "execute_result"
    }
   ],
   "source": [
    "# Compare with the corresponding values target values\n",
    "y_test[:3]"
   ]
  },
  {
   "cell_type": "markdown",
   "metadata": {
    "id": "YLd5Uvpvpn_b"
   },
   "source": [
    "<b>Observation:</b><br/>\n",
    "The second prediction is very bad given the RMSE. The other two predictions are okay."
   ]
  }
 ],
 "metadata": {
  "colab": {
   "provenance": []
  },
  "kernelspec": {
   "display_name": "Python [conda env:base] *",
   "language": "python",
   "name": "conda-base-py"
  },
  "language_info": {
   "codemirror_mode": {
    "name": "ipython",
    "version": 3
   },
   "file_extension": ".py",
   "mimetype": "text/x-python",
   "name": "python",
   "nbconvert_exporter": "python",
   "pygments_lexer": "ipython3",
   "version": "3.12.4"
  },
  "nav_menu": {
   "height": "264px",
   "width": "369px"
  },
  "toc": {
   "navigate_menu": true,
   "number_sections": true,
   "sideBar": true,
   "threshold": 6,
   "toc_cell": false,
   "toc_section_display": "block",
   "toc_window_display": false
  }
 },
 "nbformat": 4,
 "nbformat_minor": 4
}
