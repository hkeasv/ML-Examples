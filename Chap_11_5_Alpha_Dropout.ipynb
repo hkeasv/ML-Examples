{
 "cells": [
  {
   "cell_type": "markdown",
   "metadata": {},
   "source": [
    "# Training using the Fashion MNIST dataset\n",
    "We will train and evaluate an MLP on the Fashion MNIST dataset. It consists of 70.000 grayscale images of 28x28 pixels each, and there are 10 classes.\n",
    "\n",
    "Hyperparameters:\n",
    "1. Optimizer: Momentum optimization\n",
    "2. Activation function: RELU\n",
    "3. Weight initialization: Default (glorot_uniform)\n",
    "4. Learning rate schedule: Performance scheduling\n",
    "5. Regularization: Alpha dropout"
   ]
  },
  {
   "cell_type": "markdown",
   "metadata": {},
   "source": [
    "## Setup"
   ]
  },
  {
   "cell_type": "code",
   "execution_count": 1,
   "metadata": {},
   "outputs": [],
   "source": [
    "# Common imports\n",
    "import sys\n",
    "import os\n",
    "import sklearn\n",
    "import numpy as np\n",
    "import pandas as pd\n",
    "import tensorflow as tf\n",
    "from tensorflow import keras\n",
    "\n",
    "# to make this notebook's output stable across runs\n",
    "np.random.seed(42)\n",
    "tf.random.set_seed(42)\n",
    "\n",
    "# To plot pretty figures\n",
    "%matplotlib inline\n",
    "import matplotlib.pyplot as plt\n",
    "\n",
    "# Ignore useless warnings (see SciPy issue #5998)\n",
    "import warnings\n",
    "warnings.filterwarnings(action=\"ignore\", message=\"^internal gelsd\")"
   ]
  },
  {
   "cell_type": "markdown",
   "metadata": {},
   "source": [
    "## Load the data"
   ]
  },
  {
   "cell_type": "code",
   "execution_count": 2,
   "metadata": {},
   "outputs": [],
   "source": [
    "fashion_mnist = keras.datasets.fashion_mnist\n",
    "(X_train_full, y_train_full), (X_test, y_test) = fashion_mnist.load_data()"
   ]
  },
  {
   "cell_type": "code",
   "execution_count": 3,
   "metadata": {},
   "outputs": [],
   "source": [
    "# Split the full training set into a validation set and a (smaller) training set.\n",
    "# Normalize the data\n",
    "X_valid, X_train = X_train_full[:5000] / 255.0, X_train_full[5000:] / 255.0\n",
    "y_valid, y_train = y_train_full[:5000], y_train_full[5000:]\n",
    "X_test = X_test / 255.0"
   ]
  },
  {
   "cell_type": "code",
   "execution_count": 4,
   "metadata": {},
   "outputs": [
    {
     "data": {
      "text/plain": [
       "(55000, 28, 28)"
      ]
     },
     "execution_count": 4,
     "metadata": {},
     "output_type": "execute_result"
    }
   ],
   "source": [
    "X_train.shape"
   ]
  },
  {
   "cell_type": "markdown",
   "metadata": {},
   "source": [
    "## Create a model using the Sequential API"
   ]
  },
  {
   "cell_type": "code",
   "execution_count": 5,
   "metadata": {},
   "outputs": [],
   "source": [
    "model = keras.models.Sequential()\n",
    "# Input layer:\n",
    "model.add(keras.layers.Flatten(input_shape=[28, 28]))\n",
    "\n",
    "# Hidden layers:\n",
    "for layer in range(3):\n",
    "    model.add(keras.layers.Dense(100, activation=\"relu\"))\n",
    "\n",
    "# Use alpha dropout in the last hidden layer.\n",
    "model.add(keras.layers.AlphaDropout(rate=0.2))\n",
    "\n",
    "# Output layer.\n",
    "model.add(keras.layers.Dense(10, activation=\"softmax\"))"
   ]
  },
  {
   "cell_type": "markdown",
   "metadata": {},
   "source": [
    "## Compile the model\n",
    "You must at least specify the loss function and the optimizer to use. You can also specify a list of additional metrics to use during training and evaluation."
   ]
  },
  {
   "cell_type": "code",
   "execution_count": 6,
   "metadata": {},
   "outputs": [],
   "source": [
    "# The optimixer is Stochastic Gradient Descent with momentum optimization. The momentum is set to 0.9.\n",
    "# This value usually works well in practice. We use the default learning rate (0.01).\n",
    "model.compile(loss=\"sparse_categorical_crossentropy\",\n",
    "              optimizer=keras.optimizers.SGD(momentum=0.9),\n",
    "              metrics=[\"accuracy\"])"
   ]
  },
  {
   "cell_type": "markdown",
   "metadata": {},
   "source": [
    "## Train the model"
   ]
  },
  {
   "cell_type": "code",
   "execution_count": 7,
   "metadata": {
    "scrolled": true
   },
   "outputs": [
    {
     "name": "stdout",
     "output_type": "stream",
     "text": [
      "Epoch 1/100\n"
     ]
    },
    {
     "name": "stderr",
     "output_type": "stream",
     "text": [
      "2023-09-27 07:39:42.996884: W tensorflow/tsl/platform/profile_utils/cpu_utils.cc:128] Failed to get CPU frequency: 0 Hz\n"
     ]
    },
    {
     "name": "stdout",
     "output_type": "stream",
     "text": [
      "1719/1719 [==============================] - 2s 813us/step - loss: 0.7274 - accuracy: 0.7366 - val_loss: 0.5027 - val_accuracy: 0.8388 - lr: 0.0100\n",
      "Epoch 2/100\n",
      "1719/1719 [==============================] - 1s 752us/step - loss: 0.5051 - accuracy: 0.8210 - val_loss: 0.5618 - val_accuracy: 0.8386 - lr: 0.0100\n",
      "Epoch 3/100\n",
      "1719/1719 [==============================] - 1s 751us/step - loss: 0.4578 - accuracy: 0.8362 - val_loss: 0.4030 - val_accuracy: 0.8660 - lr: 0.0100\n",
      "Epoch 4/100\n",
      "1719/1719 [==============================] - 1s 747us/step - loss: 0.4266 - accuracy: 0.8485 - val_loss: 0.4292 - val_accuracy: 0.8684 - lr: 0.0100\n",
      "Epoch 5/100\n",
      "1719/1719 [==============================] - 1s 745us/step - loss: 0.4064 - accuracy: 0.8569 - val_loss: 0.3705 - val_accuracy: 0.8750 - lr: 0.0100\n",
      "Epoch 6/100\n",
      "1719/1719 [==============================] - 1s 756us/step - loss: 0.3894 - accuracy: 0.8615 - val_loss: 0.4733 - val_accuracy: 0.8658 - lr: 0.0100\n",
      "Epoch 7/100\n",
      "1719/1719 [==============================] - 1s 750us/step - loss: 0.3805 - accuracy: 0.8656 - val_loss: 0.3933 - val_accuracy: 0.8758 - lr: 0.0100\n",
      "Epoch 8/100\n",
      "1719/1719 [==============================] - 1s 750us/step - loss: 0.3638 - accuracy: 0.8697 - val_loss: 0.3631 - val_accuracy: 0.8760 - lr: 0.0100\n",
      "Epoch 9/100\n",
      "1719/1719 [==============================] - 1s 755us/step - loss: 0.3524 - accuracy: 0.8746 - val_loss: 0.4193 - val_accuracy: 0.8778 - lr: 0.0100\n",
      "Epoch 10/100\n",
      "1719/1719 [==============================] - 1s 755us/step - loss: 0.3420 - accuracy: 0.8782 - val_loss: 0.3649 - val_accuracy: 0.8874 - lr: 0.0100\n",
      "Epoch 11/100\n",
      "1719/1719 [==============================] - 1s 749us/step - loss: 0.3329 - accuracy: 0.8812 - val_loss: 0.3994 - val_accuracy: 0.8846 - lr: 0.0100\n",
      "Epoch 12/100\n",
      "1719/1719 [==============================] - 1s 757us/step - loss: 0.3263 - accuracy: 0.8823 - val_loss: 0.4365 - val_accuracy: 0.8786 - lr: 0.0100\n",
      "Epoch 13/100\n",
      "1719/1719 [==============================] - 1s 751us/step - loss: 0.2879 - accuracy: 0.8957 - val_loss: 0.3415 - val_accuracy: 0.8944 - lr: 0.0050\n",
      "Epoch 14/100\n",
      "1719/1719 [==============================] - 1s 760us/step - loss: 0.2762 - accuracy: 0.8987 - val_loss: 0.3696 - val_accuracy: 0.8876 - lr: 0.0050\n",
      "Epoch 15/100\n",
      "1719/1719 [==============================] - 1s 757us/step - loss: 0.2749 - accuracy: 0.8993 - val_loss: 0.3501 - val_accuracy: 0.8934 - lr: 0.0050\n",
      "Epoch 16/100\n",
      "1719/1719 [==============================] - 1s 756us/step - loss: 0.2685 - accuracy: 0.9018 - val_loss: 0.3733 - val_accuracy: 0.8954 - lr: 0.0050\n",
      "Epoch 17/100\n",
      "1719/1719 [==============================] - 1s 746us/step - loss: 0.2654 - accuracy: 0.9024 - val_loss: 0.3720 - val_accuracy: 0.8902 - lr: 0.0050\n",
      "Epoch 18/100\n",
      "1719/1719 [==============================] - 1s 754us/step - loss: 0.2453 - accuracy: 0.9092 - val_loss: 0.3455 - val_accuracy: 0.8956 - lr: 0.0025\n",
      "Epoch 19/100\n",
      "1719/1719 [==============================] - 1s 749us/step - loss: 0.2434 - accuracy: 0.9117 - val_loss: 0.3700 - val_accuracy: 0.8970 - lr: 0.0025\n",
      "Epoch 20/100\n",
      "1719/1719 [==============================] - 1s 757us/step - loss: 0.2384 - accuracy: 0.9117 - val_loss: 0.3514 - val_accuracy: 0.8968 - lr: 0.0025\n",
      "Epoch 21/100\n",
      "1719/1719 [==============================] - 1s 801us/step - loss: 0.2364 - accuracy: 0.9137 - val_loss: 0.3508 - val_accuracy: 0.8982 - lr: 0.0025\n",
      "Epoch 22/100\n",
      "1719/1719 [==============================] - 1s 755us/step - loss: 0.2264 - accuracy: 0.9168 - val_loss: 0.3583 - val_accuracy: 0.9002 - lr: 0.0012\n",
      "Epoch 23/100\n",
      "1719/1719 [==============================] - 1s 765us/step - loss: 0.2263 - accuracy: 0.9174 - val_loss: 0.3563 - val_accuracy: 0.8980 - lr: 0.0012\n",
      "Epoch 24/100\n",
      "1719/1719 [==============================] - 1s 763us/step - loss: 0.2230 - accuracy: 0.9180 - val_loss: 0.3724 - val_accuracy: 0.8966 - lr: 0.0012\n",
      "Epoch 25/100\n",
      "1719/1719 [==============================] - 1s 754us/step - loss: 0.2226 - accuracy: 0.9172 - val_loss: 0.3612 - val_accuracy: 0.8958 - lr: 0.0012\n",
      "Epoch 26/100\n",
      "1719/1719 [==============================] - 1s 764us/step - loss: 0.2182 - accuracy: 0.9201 - val_loss: 0.3496 - val_accuracy: 0.9010 - lr: 6.2500e-04\n",
      "Epoch 27/100\n",
      "1719/1719 [==============================] - 1s 754us/step - loss: 0.2146 - accuracy: 0.9211 - val_loss: 0.3507 - val_accuracy: 0.9000 - lr: 6.2500e-04\n",
      "Epoch 28/100\n",
      "1719/1719 [==============================] - 1s 758us/step - loss: 0.2154 - accuracy: 0.9209 - val_loss: 0.3592 - val_accuracy: 0.8986 - lr: 6.2500e-04\n",
      "Epoch 29/100\n",
      "1719/1719 [==============================] - 1s 755us/step - loss: 0.2149 - accuracy: 0.9208 - val_loss: 0.3476 - val_accuracy: 0.9000 - lr: 6.2500e-04\n",
      "Epoch 30/100\n",
      "1719/1719 [==============================] - 1s 758us/step - loss: 0.2125 - accuracy: 0.9215 - val_loss: 0.3541 - val_accuracy: 0.8988 - lr: 3.1250e-04\n",
      "Epoch 31/100\n",
      "1719/1719 [==============================] - 1s 765us/step - loss: 0.2126 - accuracy: 0.9221 - val_loss: 0.3538 - val_accuracy: 0.9010 - lr: 3.1250e-04\n",
      "Epoch 32/100\n",
      "1719/1719 [==============================] - 1s 759us/step - loss: 0.2120 - accuracy: 0.9226 - val_loss: 0.3545 - val_accuracy: 0.8992 - lr: 3.1250e-04\n",
      "Epoch 33/100\n",
      "1719/1719 [==============================] - 1s 768us/step - loss: 0.2108 - accuracy: 0.9230 - val_loss: 0.3542 - val_accuracy: 0.8990 - lr: 3.1250e-04\n",
      "Epoch 34/100\n",
      "1719/1719 [==============================] - 1s 754us/step - loss: 0.2099 - accuracy: 0.9239 - val_loss: 0.3566 - val_accuracy: 0.9012 - lr: 1.5625e-04\n",
      "Epoch 35/100\n",
      "1719/1719 [==============================] - 1s 765us/step - loss: 0.2088 - accuracy: 0.9241 - val_loss: 0.3536 - val_accuracy: 0.9000 - lr: 1.5625e-04\n",
      "Epoch 36/100\n",
      "1719/1719 [==============================] - 1s 768us/step - loss: 0.2098 - accuracy: 0.9232 - val_loss: 0.3518 - val_accuracy: 0.8996 - lr: 1.5625e-04\n",
      "Epoch 37/100\n",
      "1719/1719 [==============================] - 1s 773us/step - loss: 0.2107 - accuracy: 0.9229 - val_loss: 0.3538 - val_accuracy: 0.9008 - lr: 1.5625e-04\n",
      "Epoch 38/100\n",
      "1719/1719 [==============================] - 1s 757us/step - loss: 0.2084 - accuracy: 0.9235 - val_loss: 0.3519 - val_accuracy: 0.9000 - lr: 7.8125e-05\n",
      "Epoch 39/100\n",
      "1719/1719 [==============================] - 1s 755us/step - loss: 0.2077 - accuracy: 0.9246 - val_loss: 0.3543 - val_accuracy: 0.8990 - lr: 7.8125e-05\n",
      "Epoch 40/100\n",
      "1719/1719 [==============================] - 1s 767us/step - loss: 0.2084 - accuracy: 0.9238 - val_loss: 0.3532 - val_accuracy: 0.9000 - lr: 7.8125e-05\n",
      "Epoch 41/100\n",
      "1719/1719 [==============================] - 1s 757us/step - loss: 0.2076 - accuracy: 0.9240 - val_loss: 0.3558 - val_accuracy: 0.8998 - lr: 7.8125e-05\n",
      "Epoch 42/100\n",
      "1719/1719 [==============================] - 1s 751us/step - loss: 0.2078 - accuracy: 0.9248 - val_loss: 0.3548 - val_accuracy: 0.8978 - lr: 3.9062e-05\n",
      "Epoch 43/100\n",
      "1719/1719 [==============================] - 1s 754us/step - loss: 0.2081 - accuracy: 0.9235 - val_loss: 0.3541 - val_accuracy: 0.9004 - lr: 3.9062e-05\n",
      "Epoch 44/100\n",
      "1719/1719 [==============================] - 1s 765us/step - loss: 0.2074 - accuracy: 0.9240 - val_loss: 0.3540 - val_accuracy: 0.8990 - lr: 3.9062e-05\n",
      "Epoch 45/100\n",
      "1719/1719 [==============================] - 1s 778us/step - loss: 0.2069 - accuracy: 0.9235 - val_loss: 0.3537 - val_accuracy: 0.9004 - lr: 3.9062e-05\n",
      "Epoch 46/100\n",
      "1719/1719 [==============================] - 1s 756us/step - loss: 0.2073 - accuracy: 0.9239 - val_loss: 0.3534 - val_accuracy: 0.8994 - lr: 1.9531e-05\n",
      "Epoch 47/100\n",
      "1719/1719 [==============================] - 1s 756us/step - loss: 0.2063 - accuracy: 0.9243 - val_loss: 0.3541 - val_accuracy: 0.8996 - lr: 1.9531e-05\n",
      "Epoch 48/100\n",
      "1719/1719 [==============================] - 1s 764us/step - loss: 0.2066 - accuracy: 0.9241 - val_loss: 0.3535 - val_accuracy: 0.8990 - lr: 1.9531e-05\n",
      "Epoch 49/100\n",
      "1719/1719 [==============================] - 1s 763us/step - loss: 0.2063 - accuracy: 0.9245 - val_loss: 0.3547 - val_accuracy: 0.8994 - lr: 1.9531e-05\n",
      "Epoch 50/100\n",
      "1719/1719 [==============================] - 1s 759us/step - loss: 0.2063 - accuracy: 0.9237 - val_loss: 0.3540 - val_accuracy: 0.8994 - lr: 9.7656e-06\n",
      "Epoch 51/100\n"
     ]
    },
    {
     "name": "stdout",
     "output_type": "stream",
     "text": [
      "1719/1719 [==============================] - 1s 765us/step - loss: 0.2073 - accuracy: 0.9239 - val_loss: 0.3539 - val_accuracy: 0.8992 - lr: 9.7656e-06\n",
      "Epoch 52/100\n",
      "1719/1719 [==============================] - 1s 770us/step - loss: 0.2066 - accuracy: 0.9244 - val_loss: 0.3534 - val_accuracy: 0.8994 - lr: 9.7656e-06\n",
      "Epoch 53/100\n",
      "1719/1719 [==============================] - 1s 760us/step - loss: 0.2064 - accuracy: 0.9242 - val_loss: 0.3538 - val_accuracy: 0.8996 - lr: 9.7656e-06\n",
      "Epoch 54/100\n",
      "1719/1719 [==============================] - 1s 767us/step - loss: 0.2072 - accuracy: 0.9250 - val_loss: 0.3539 - val_accuracy: 0.8996 - lr: 4.8828e-06\n",
      "Epoch 55/100\n",
      "1719/1719 [==============================] - 1s 740us/step - loss: 0.2074 - accuracy: 0.9248 - val_loss: 0.3537 - val_accuracy: 0.8996 - lr: 4.8828e-06\n",
      "Epoch 56/100\n",
      "1719/1719 [==============================] - 1s 760us/step - loss: 0.2069 - accuracy: 0.9238 - val_loss: 0.3537 - val_accuracy: 0.8996 - lr: 4.8828e-06\n",
      "Epoch 57/100\n",
      "1719/1719 [==============================] - 1s 756us/step - loss: 0.2069 - accuracy: 0.9242 - val_loss: 0.3536 - val_accuracy: 0.8996 - lr: 4.8828e-06\n",
      "Epoch 58/100\n",
      "1719/1719 [==============================] - 1s 770us/step - loss: 0.2077 - accuracy: 0.9236 - val_loss: 0.3537 - val_accuracy: 0.8996 - lr: 2.4414e-06\n",
      "Epoch 59/100\n",
      "1719/1719 [==============================] - 1s 760us/step - loss: 0.2071 - accuracy: 0.9239 - val_loss: 0.3537 - val_accuracy: 0.8996 - lr: 2.4414e-06\n",
      "Epoch 60/100\n",
      "1719/1719 [==============================] - 1s 772us/step - loss: 0.2071 - accuracy: 0.9247 - val_loss: 0.3538 - val_accuracy: 0.8996 - lr: 2.4414e-06\n",
      "Epoch 61/100\n",
      "1719/1719 [==============================] - 1s 750us/step - loss: 0.2065 - accuracy: 0.9241 - val_loss: 0.3539 - val_accuracy: 0.8996 - lr: 2.4414e-06\n",
      "Epoch 62/100\n",
      "1719/1719 [==============================] - 1s 760us/step - loss: 0.2055 - accuracy: 0.9235 - val_loss: 0.3539 - val_accuracy: 0.8994 - lr: 1.2207e-06\n",
      "Epoch 63/100\n",
      "1719/1719 [==============================] - 1s 748us/step - loss: 0.2076 - accuracy: 0.9242 - val_loss: 0.3538 - val_accuracy: 0.8996 - lr: 1.2207e-06\n",
      "Epoch 64/100\n",
      "1719/1719 [==============================] - 1s 752us/step - loss: 0.2064 - accuracy: 0.9244 - val_loss: 0.3538 - val_accuracy: 0.8996 - lr: 1.2207e-06\n",
      "Epoch 65/100\n",
      "1719/1719 [==============================] - 1s 766us/step - loss: 0.2057 - accuracy: 0.9251 - val_loss: 0.3538 - val_accuracy: 0.8996 - lr: 1.2207e-06\n",
      "Epoch 66/100\n",
      "1719/1719 [==============================] - 1s 792us/step - loss: 0.2060 - accuracy: 0.9249 - val_loss: 0.3538 - val_accuracy: 0.8996 - lr: 6.1035e-07\n",
      "Epoch 67/100\n",
      "1719/1719 [==============================] - 1s 764us/step - loss: 0.2057 - accuracy: 0.9247 - val_loss: 0.3538 - val_accuracy: 0.8996 - lr: 6.1035e-07\n",
      "Epoch 68/100\n",
      "1719/1719 [==============================] - 1s 758us/step - loss: 0.2068 - accuracy: 0.9239 - val_loss: 0.3538 - val_accuracy: 0.8998 - lr: 6.1035e-07\n",
      "Epoch 69/100\n",
      "1719/1719 [==============================] - 1s 765us/step - loss: 0.2059 - accuracy: 0.9247 - val_loss: 0.3538 - val_accuracy: 0.8998 - lr: 6.1035e-07\n",
      "Epoch 70/100\n",
      "1719/1719 [==============================] - 1s 761us/step - loss: 0.2053 - accuracy: 0.9252 - val_loss: 0.3538 - val_accuracy: 0.8998 - lr: 3.0518e-07\n",
      "Epoch 71/100\n",
      "1719/1719 [==============================] - 1s 763us/step - loss: 0.2068 - accuracy: 0.9234 - val_loss: 0.3538 - val_accuracy: 0.8998 - lr: 3.0518e-07\n",
      "Epoch 72/100\n",
      "1719/1719 [==============================] - 1s 765us/step - loss: 0.2075 - accuracy: 0.9243 - val_loss: 0.3538 - val_accuracy: 0.8998 - lr: 3.0518e-07\n",
      "Epoch 73/100\n",
      "1719/1719 [==============================] - 1s 767us/step - loss: 0.2078 - accuracy: 0.9238 - val_loss: 0.3538 - val_accuracy: 0.8998 - lr: 3.0518e-07\n",
      "Epoch 74/100\n",
      "1719/1719 [==============================] - 1s 777us/step - loss: 0.2069 - accuracy: 0.9248 - val_loss: 0.3538 - val_accuracy: 0.8998 - lr: 1.5259e-07\n",
      "Epoch 75/100\n",
      "1719/1719 [==============================] - 1s 768us/step - loss: 0.2048 - accuracy: 0.9241 - val_loss: 0.3537 - val_accuracy: 0.8998 - lr: 1.5259e-07\n",
      "Epoch 76/100\n",
      "1719/1719 [==============================] - 1s 770us/step - loss: 0.2073 - accuracy: 0.9246 - val_loss: 0.3537 - val_accuracy: 0.8998 - lr: 1.5259e-07\n",
      "Epoch 77/100\n",
      "1719/1719 [==============================] - 1s 772us/step - loss: 0.2080 - accuracy: 0.9238 - val_loss: 0.3537 - val_accuracy: 0.8998 - lr: 1.5259e-07\n",
      "Epoch 78/100\n",
      "1719/1719 [==============================] - 1s 767us/step - loss: 0.2064 - accuracy: 0.9243 - val_loss: 0.3537 - val_accuracy: 0.8998 - lr: 7.6294e-08\n",
      "Epoch 79/100\n",
      "1719/1719 [==============================] - 1s 770us/step - loss: 0.2063 - accuracy: 0.9237 - val_loss: 0.3537 - val_accuracy: 0.8998 - lr: 7.6294e-08\n",
      "Epoch 80/100\n",
      "1719/1719 [==============================] - 1s 769us/step - loss: 0.2072 - accuracy: 0.9245 - val_loss: 0.3537 - val_accuracy: 0.8998 - lr: 7.6294e-08\n",
      "Epoch 81/100\n",
      "1719/1719 [==============================] - 1s 759us/step - loss: 0.2065 - accuracy: 0.9243 - val_loss: 0.3537 - val_accuracy: 0.8998 - lr: 7.6294e-08\n",
      "Epoch 82/100\n",
      "1719/1719 [==============================] - 1s 764us/step - loss: 0.2055 - accuracy: 0.9251 - val_loss: 0.3537 - val_accuracy: 0.8998 - lr: 3.8147e-08\n",
      "Epoch 83/100\n",
      "1719/1719 [==============================] - 1s 770us/step - loss: 0.2059 - accuracy: 0.9250 - val_loss: 0.3537 - val_accuracy: 0.8998 - lr: 3.8147e-08\n",
      "Epoch 84/100\n",
      "1719/1719 [==============================] - 1s 762us/step - loss: 0.2081 - accuracy: 0.9239 - val_loss: 0.3537 - val_accuracy: 0.8998 - lr: 3.8147e-08\n",
      "Epoch 85/100\n",
      "1719/1719 [==============================] - 1s 775us/step - loss: 0.2069 - accuracy: 0.9241 - val_loss: 0.3537 - val_accuracy: 0.8998 - lr: 3.8147e-08\n",
      "Epoch 86/100\n",
      "1719/1719 [==============================] - 1s 763us/step - loss: 0.2069 - accuracy: 0.9244 - val_loss: 0.3537 - val_accuracy: 0.8998 - lr: 1.9073e-08\n",
      "Epoch 87/100\n",
      "1719/1719 [==============================] - 1s 751us/step - loss: 0.2067 - accuracy: 0.9240 - val_loss: 0.3537 - val_accuracy: 0.8998 - lr: 1.9073e-08\n",
      "Epoch 88/100\n",
      "1719/1719 [==============================] - 1s 750us/step - loss: 0.2061 - accuracy: 0.9253 - val_loss: 0.3537 - val_accuracy: 0.8998 - lr: 1.9073e-08\n",
      "Epoch 89/100\n",
      "1719/1719 [==============================] - 1s 760us/step - loss: 0.2076 - accuracy: 0.9243 - val_loss: 0.3537 - val_accuracy: 0.8998 - lr: 1.9073e-08\n",
      "Epoch 90/100\n",
      "1719/1719 [==============================] - 1s 768us/step - loss: 0.2075 - accuracy: 0.9252 - val_loss: 0.3537 - val_accuracy: 0.8998 - lr: 9.5367e-09\n",
      "Epoch 91/100\n",
      "1719/1719 [==============================] - 1s 763us/step - loss: 0.2066 - accuracy: 0.9247 - val_loss: 0.3537 - val_accuracy: 0.8998 - lr: 9.5367e-09\n",
      "Epoch 92/100\n",
      "1719/1719 [==============================] - 1s 762us/step - loss: 0.2077 - accuracy: 0.9244 - val_loss: 0.3537 - val_accuracy: 0.8998 - lr: 9.5367e-09\n",
      "Epoch 93/100\n",
      "1719/1719 [==============================] - 1s 762us/step - loss: 0.2073 - accuracy: 0.9241 - val_loss: 0.3537 - val_accuracy: 0.8998 - lr: 9.5367e-09\n",
      "Epoch 94/100\n",
      "1719/1719 [==============================] - 1s 769us/step - loss: 0.2073 - accuracy: 0.9231 - val_loss: 0.3537 - val_accuracy: 0.8998 - lr: 4.7684e-09\n",
      "Epoch 95/100\n",
      "1719/1719 [==============================] - 1s 767us/step - loss: 0.2063 - accuracy: 0.9244 - val_loss: 0.3537 - val_accuracy: 0.8998 - lr: 4.7684e-09\n",
      "Epoch 96/100\n",
      "1719/1719 [==============================] - 1s 760us/step - loss: 0.2060 - accuracy: 0.9249 - val_loss: 0.3537 - val_accuracy: 0.8998 - lr: 4.7684e-09\n",
      "Epoch 97/100\n",
      "1719/1719 [==============================] - 1s 773us/step - loss: 0.2073 - accuracy: 0.9243 - val_loss: 0.3537 - val_accuracy: 0.8998 - lr: 4.7684e-09\n",
      "Epoch 98/100\n",
      "1719/1719 [==============================] - 1s 768us/step - loss: 0.2065 - accuracy: 0.9237 - val_loss: 0.3537 - val_accuracy: 0.8998 - lr: 2.3842e-09\n",
      "Epoch 99/100\n",
      "1719/1719 [==============================] - 1s 784us/step - loss: 0.2065 - accuracy: 0.9243 - val_loss: 0.3537 - val_accuracy: 0.8998 - lr: 2.3842e-09\n",
      "Epoch 100/100\n",
      "1719/1719 [==============================] - 1s 765us/step - loss: 0.2066 - accuracy: 0.9249 - val_loss: 0.3537 - val_accuracy: 0.8998 - lr: 2.3842e-09\n"
     ]
    }
   ],
   "source": [
    "# EarlyStopping (with rollback to the best model).\n",
    "early_stopping = keras.callbacks.EarlyStopping(patience=10, restore_best_weights=True)\n",
    "\n",
    "# Performance scheduling\n",
    "# (multiply the learning rate by a factor when the error stops dropping for a number of epochs, called patience)\n",
    "lr_scheduler = keras.callbacks.ReduceLROnPlateau(factor=0.5, patience=4)\n",
    "\n",
    "# Train the model with early stopping or performance scheduling or both. Training is much faster when\n",
    "# early stopping is used, but a slightly better accuracy is achieved with performance scheduling alone.\n",
    "history = model.fit(X_train, y_train, epochs=100,\n",
    "                    validation_data=(X_valid, y_valid),\n",
    "                    callbacks=[lr_scheduler])"
   ]
  },
  {
   "cell_type": "code",
   "execution_count": 8,
   "metadata": {},
   "outputs": [
    {
     "data": {
      "image/png": "[encoded data removed]",
      "text/plain": [
       "<Figure size 800x500 with 1 Axes>"
      ]
     },
     "metadata": {},
     "output_type": "display_data"
    }
   ],
   "source": [
    "# Show the learning curves.\n",
    "# (The training curves should be shifted half an epoch to the left to be completely comparable with\n",
    "# the validation curves).\n",
    "\n",
    "pd.DataFrame(history.history).plot(figsize=(8, 5))\n",
    "plt.grid(True)\n",
    "plt.gca().set_ylim(0, 1)\n",
    "plt.show()"
   ]
  },
  {
   "cell_type": "markdown",
   "metadata": {},
   "source": [
    "## Evaluate the model."
   ]
  },
  {
   "cell_type": "code",
   "execution_count": 9,
   "metadata": {},
   "outputs": [
    {
     "name": "stdout",
     "output_type": "stream",
     "text": [
      "313/313 [==============================] - 0s 439us/step - loss: 0.4040 - accuracy: 0.8883\n"
     ]
    },
    {
     "data": {
      "text/plain": [
       "[0.40396177768707275, 0.8883000016212463]"
      ]
     },
     "execution_count": 9,
     "metadata": {},
     "output_type": "execute_result"
    }
   ],
   "source": [
    "model.evaluate(X_test, y_test)"
   ]
  }
 ],
 "metadata": {
  "kernelspec": {
   "display_name": "Python 3 (ipykernel)",
   "language": "python",
   "name": "python3"
  },
  "language_info": {
   "codemirror_mode": {
    "name": "ipython",
    "version": 3
   },
   "file_extension": ".py",
   "mimetype": "text/x-python",
   "name": "python",
   "nbconvert_exporter": "python",
   "pygments_lexer": "ipython3",
   "version": "3.10.14"
  },
  "nav_menu": {
   "height": "264px",
   "width": "369px"
  },
  "toc": {
   "navigate_menu": true,
   "number_sections": true,
   "sideBar": true,
   "threshold": 6,
   "toc_cell": false,
   "toc_section_display": "block",
   "toc_window_display": false
  }
 },
 "nbformat": 4,
 "nbformat_minor": 4
}
