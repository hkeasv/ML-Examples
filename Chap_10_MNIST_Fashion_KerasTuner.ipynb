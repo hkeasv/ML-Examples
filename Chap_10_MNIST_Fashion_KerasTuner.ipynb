{
 "cells": [
  {
   "cell_type": "markdown",
   "metadata": {},
   "source": [
    "**MLP classifier trained on the Fashion MNIST dataset and tuned using KerasTuner**"
   ]
  },
  {
   "cell_type": "markdown",
   "metadata": {},
   "source": [
    "# Image classification using the Fashion MNIST dataset\n",
    "We will train and evaluate an MLP on the Fashion MNIST dataset. It consists of 70.000 grayscale images of 28x28 pixels each, and there are 10 classes.\n",
    "We will use KerasTuner for hyperparameter Tuning."
   ]
  },
  {
   "cell_type": "markdown",
   "metadata": {},
   "source": [
    "## Setup"
   ]
  },
  {
   "cell_type": "code",
   "execution_count": 1,
   "metadata": {},
   "outputs": [],
   "source": [
    "# Common imports\n",
    "import sys\n",
    "import os\n",
    "import tensorflow as tf\n",
    "from tensorflow import keras\n",
    "\n",
    "# to make this notebook's output stable across runs\n",
    "tf.random.set_seed(42)\n",
    "\n",
    "# To plot pretty figures\n",
    "%matplotlib inline\n",
    "import matplotlib.pyplot as plt"
   ]
  },
  {
   "cell_type": "markdown",
   "metadata": {},
   "source": [
    "## Load the data"
   ]
  },
  {
   "cell_type": "code",
   "execution_count": 2,
   "metadata": {},
   "outputs": [],
   "source": [
    "data = tf.keras.datasets.fashion_mnist\n",
    "(X_train_full, y_train_full), (X_test, y_test) = data.load_data()"
   ]
  },
  {
   "cell_type": "code",
   "execution_count": 3,
   "metadata": {},
   "outputs": [
    {
     "data": {
      "text/plain": [
       "(60000, 28, 28)"
      ]
     },
     "execution_count": 3,
     "metadata": {},
     "output_type": "execute_result"
    }
   ],
   "source": [
    "# Show the size and dimension of the dataset.\n",
    "X_train_full.shape"
   ]
  },
  {
   "cell_type": "code",
   "execution_count": 4,
   "metadata": {},
   "outputs": [
    {
     "data": {
      "text/plain": [
       "dtype('uint8')"
      ]
     },
     "execution_count": 4,
     "metadata": {},
     "output_type": "execute_result"
    }
   ],
   "source": [
    "# Each pixel intensity is represented as a byte (0 to 255).\n",
    "X_train_full.dtype"
   ]
  },
  {
   "cell_type": "code",
   "execution_count": 5,
   "metadata": {},
   "outputs": [],
   "source": [
    "# Split the full training set into a validation set and a (smaller) training set,\n",
    "# and scale the pixel intensities down to the 0-1 range and convert them to floats, by dividing by 255.\n",
    "X_valid, X_train = X_train_full[:5000] / 255., X_train_full[5000:] / 255.\n",
    "y_valid, y_train = y_train_full[:5000], y_train_full[5000:]\n",
    "X_test = X_test / 255."
   ]
  },
  {
   "cell_type": "markdown",
   "metadata": {},
   "source": [
    "## Hyperparameter tuning with KerasTuner"
   ]
  },
  {
   "cell_type": "code",
   "execution_count": 6,
   "metadata": {},
   "outputs": [],
   "source": [
    "# Install KerasTuner if you are using Google Colab (if you are running on your own computer\n",
    "# it may also be necessary to install KerasTuner once from the command prompt).\n",
    "if \"google.colab\" in sys.modules:\n",
    "    %pip install -q -U keras_tuner"
   ]
  },
  {
   "cell_type": "code",
   "execution_count": 7,
   "metadata": {},
   "outputs": [],
   "source": [
    "# Create a function that builds, compiles and returns a Keras model.\n",
    "# Note that the function takes a HyperParameters object (hp) as a parameter, which it can\n",
    "# use to define hyperparameters along with their range of possible values.\n",
    "import keras_tuner as kt\n",
    "\n",
    "def build_model(hp):\n",
    "    n_hidden = hp.Int(\"n_hidden\", min_value=1, max_value=10, default=2)\n",
    "    n_neurons = hp.Int(\"n_neurons\", min_value=10, max_value=200)\n",
    "    learning_rate = hp.Float(\"learning_rate\", min_value=1e-4, max_value=1e-2,\n",
    "                             sampling=\"log\")\n",
    "    optimizer = tf.keras.optimizers.SGD(learning_rate=learning_rate)\n",
    "    model = tf.keras.Sequential()\n",
    "    model.add(tf.keras.layers.Flatten())\n",
    "    for _ in range(n_hidden):\n",
    "        model.add(tf.keras.layers.Dense(n_neurons, activation=\"relu\"))\n",
    "    model.add(tf.keras.layers.Dense(10, activation=\"softmax\"))\n",
    "    model.compile(loss=\"sparse_categorical_crossentropy\", optimizer=optimizer,\n",
    "                  metrics=[\"accuracy\"])\n",
    "    return model"
   ]
  },
  {
   "cell_type": "code",
   "execution_count": 8,
   "metadata": {},
   "outputs": [
    {
     "name": "stdout",
     "output_type": "stream",
     "text": [
      "Trial 49 Complete [00h 00m 44s]\n",
      "val_accuracy: 0.8895999789237976\n",
      "\n",
      "Best val_accuracy So Far: 0.8992000222206116\n",
      "Total elapsed time: 00h 47m 14s\n",
      "\n",
      "Search: Running Trial #50\n",
      "\n",
      "Value             |Best Value So Far |Hyperparameter\n",
      "5                 |10                |n_hidden\n",
      "24                |190               |n_neurons\n",
      "0.0032988         |0.0063534         |learning_rate\n",
      "\n",
      "Epoch 1/40\n",
      "1719/1719 [==============================] - 1s 559us/step - loss: 1.5745 - accuracy: 0.4446 - val_loss: 0.9582 - val_accuracy: 0.6278\n",
      "Epoch 2/40\n",
      "1719/1719 [==============================] - 1s 491us/step - loss: 0.8188 - accuracy: 0.6775 - val_loss: 0.7220 - val_accuracy: 0.7318\n",
      "Epoch 3/40\n",
      "1719/1719 [==============================] - 1s 466us/step - loss: 0.6891 - accuracy: 0.7395 - val_loss: 0.8133 - val_accuracy: 0.6808\n",
      "Epoch 4/40\n",
      "1719/1719 [==============================] - 2s 1ms/step - loss: 0.6267 - accuracy: 0.7675 - val_loss: 0.5908 - val_accuracy: 0.7774\n",
      "Epoch 5/40\n",
      "1719/1719 [==============================] - 1s 503us/step - loss: 0.5833 - accuracy: 0.7901 - val_loss: 0.5461 - val_accuracy: 0.8124\n",
      "Epoch 6/40\n",
      "1719/1719 [==============================] - 1s 490us/step - loss: 0.5476 - accuracy: 0.8064 - val_loss: 0.5135 - val_accuracy: 0.8278\n",
      "Epoch 7/40\n",
      "1719/1719 [==============================] - 1s 494us/step - loss: 0.5241 - accuracy: 0.8153 - val_loss: 0.5007 - val_accuracy: 0.8342\n",
      "Epoch 8/40\n",
      "1719/1719 [==============================] - 1s 473us/step - loss: 0.5061 - accuracy: 0.8217 - val_loss: 0.5214 - val_accuracy: 0.8134\n",
      "Epoch 9/40\n",
      "1719/1719 [==============================] - 1s 497us/step - loss: 0.4904 - accuracy: 0.8268 - val_loss: 0.4667 - val_accuracy: 0.8434\n",
      "Epoch 10/40\n",
      "1719/1719 [==============================] - 1s 468us/step - loss: 0.4788 - accuracy: 0.8307 - val_loss: 0.4707 - val_accuracy: 0.8354\n",
      "Epoch 11/40\n",
      "1719/1719 [==============================] - 1s 467us/step - loss: 0.4677 - accuracy: 0.8356 - val_loss: 0.4649 - val_accuracy: 0.8388\n",
      "Epoch 12/40\n",
      "1719/1719 [==============================] - 1s 484us/step - loss: 0.4571 - accuracy: 0.8379 - val_loss: 0.4390 - val_accuracy: 0.8494\n",
      "Epoch 13/40\n",
      "1719/1719 [==============================] - 1s 468us/step - loss: 0.4488 - accuracy: 0.8415 - val_loss: 0.4420 - val_accuracy: 0.8466\n",
      "Epoch 14/40\n",
      "1719/1719 [==============================] - 1s 467us/step - loss: 0.4400 - accuracy: 0.8449 - val_loss: 0.4555 - val_accuracy: 0.8368\n",
      "Epoch 15/40\n",
      "1719/1719 [==============================] - 1s 464us/step - loss: 0.4312 - accuracy: 0.8479 - val_loss: 0.4652 - val_accuracy: 0.8374\n",
      "Epoch 16/40\n",
      "1719/1719 [==============================] - 1s 482us/step - loss: 0.4258 - accuracy: 0.8488 - val_loss: 0.4084 - val_accuracy: 0.8610\n",
      "Epoch 17/40\n",
      "1719/1719 [==============================] - 1s 468us/step - loss: 0.4189 - accuracy: 0.8516 - val_loss: 0.4337 - val_accuracy: 0.8500\n",
      "Epoch 18/40\n",
      "1719/1719 [==============================] - 1s 465us/step - loss: 0.4111 - accuracy: 0.8549 - val_loss: 0.4202 - val_accuracy: 0.8574\n",
      "Epoch 19/40\n",
      "1719/1719 [==============================] - 1s 467us/step - loss: 0.4053 - accuracy: 0.8560 - val_loss: 0.4152 - val_accuracy: 0.8604\n",
      "Epoch 20/40\n",
      "1719/1719 [==============================] - 1s 465us/step - loss: 0.3992 - accuracy: 0.8578 - val_loss: 0.4232 - val_accuracy: 0.8520\n",
      "Epoch 21/40\n",
      "1631/1719 [===========================>..] - ETA: 0s - loss: 0.3934 - accuracy: 0.8604"
     ]
    }
   ],
   "source": [
    "# Use KerasTuner RandomSearch to tune hyperparameters\n",
    "random_search_tuner = kt.RandomSearch(\n",
    "    build_model, objective=\"val_accuracy\", max_trials=60, overwrite=True,\n",
    "    directory=\"my_mnist\", project_name=\"my_rnd_search\", seed=42)\n",
    "random_search_tuner.search(X_train, y_train, epochs=40,\n",
    "                           validation_data=(X_valid, y_valid))"
   ]
  },
  {
   "cell_type": "code",
   "execution_count": 9,
   "metadata": {},
   "outputs": [],
   "source": [
    "# Display a summary of the best model:\n",
    "best_trial = random_search_tuner.oracle.get_best_trials(num_trials=1)[0]\n",
    "best_trial.summary()"
   ]
  },
  {
   "cell_type": "code",
   "execution_count": 10,
   "metadata": {},
   "outputs": [],
   "source": [
    "# Display the best model's accuracy measured on the validation set:\n",
    "best_trial.metrics.get_last_value(\"val_accuracy\")"
   ]
  },
  {
   "cell_type": "code",
   "execution_count": 11,
   "metadata": {},
   "outputs": [],
   "source": [
    "# Evaluate the model's accuracy on the test set:\n",
    "best_model = random_search_tuner.get_best_models(num_models=1)[0]\n",
    "test_loss, test_accuracy = best_model.evaluate(X_test, y_test)"
   ]
  }
 ],
 "metadata": {
  "kernelspec": {
   "display_name": "Python 3 (ipykernel)",
   "language": "python",
   "name": "python3"
  },
  "language_info": {
   "codemirror_mode": {
    "name": "ipython",
    "version": 3
   },
   "file_extension": ".py",
   "mimetype": "text/x-python",
   "name": "python",
   "nbconvert_exporter": "python",
   "pygments_lexer": "ipython3",
   "version": "3.10.14"
  },
  "nav_menu": {
   "height": "264px",
   "width": "369px"
  },
  "toc": {
   "navigate_menu": true,
   "number_sections": true,
   "sideBar": true,
   "threshold": 6,
   "toc_cell": false,
   "toc_section_display": "block",
   "toc_window_display": false
  }
 },
 "nbformat": 4,
 "nbformat_minor": 4
}
