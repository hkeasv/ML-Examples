{
 "cells": [
  {
   "cell_type": "markdown",
   "metadata": {},
   "source": [
    "# Training using the Fashion MNIST dataset\n",
    "We will train and evaluate an MLP on the Fashion MNIST dataset. It consists of 70.000 grayscale images of 28x28 pixels each, and there are 10 classes.\n",
    "\n",
    "Hyperparameters:\n",
    "1. Optimizer: Momentum optimization\n",
    "2. Activation function: RELU\n",
    "3. Weight initialization: Default (glorot_uniform)"
   ]
  },
  {
   "cell_type": "markdown",
   "metadata": {},
   "source": [
    "## Setup"
   ]
  },
  {
   "cell_type": "code",
   "execution_count": 1,
   "metadata": {},
   "outputs": [],
   "source": [
    "# Common imports\n",
    "import sys\n",
    "import os\n",
    "import sklearn\n",
    "import numpy as np\n",
    "import pandas as pd\n",
    "import tensorflow as tf\n",
    "from tensorflow import keras\n",
    "\n",
    "# to make this notebook's output stable across runs\n",
    "np.random.seed(42)\n",
    "tf.random.set_seed(42)\n",
    "\n",
    "# To plot pretty figures\n",
    "%matplotlib inline\n",
    "import matplotlib.pyplot as plt\n",
    "\n",
    "# Ignore useless warnings (see SciPy issue #5998)\n",
    "import warnings\n",
    "warnings.filterwarnings(action=\"ignore\", message=\"^internal gelsd\")"
   ]
  },
  {
   "cell_type": "markdown",
   "metadata": {},
   "source": [
    "## Load the data"
   ]
  },
  {
   "cell_type": "code",
   "execution_count": 2,
   "metadata": {},
   "outputs": [],
   "source": [
    "fashion_mnist = keras.datasets.fashion_mnist\n",
    "(X_train_full, y_train_full), (X_test, y_test) = fashion_mnist.load_data()"
   ]
  },
  {
   "cell_type": "code",
   "execution_count": 3,
   "metadata": {},
   "outputs": [],
   "source": [
    "# Split the full training set into a validation set and a (smaller) training set.\n",
    "# Normalize the data\n",
    "X_valid, X_train = X_train_full[:5000] / 255.0, X_train_full[5000:] / 255.0\n",
    "y_valid, y_train = y_train_full[:5000], y_train_full[5000:]\n",
    "X_test = X_test / 255.0"
   ]
  },
  {
   "cell_type": "code",
   "execution_count": 4,
   "metadata": {},
   "outputs": [
    {
     "data": {
      "text/plain": [
       "(55000, 28, 28)"
      ]
     },
     "execution_count": 4,
     "metadata": {},
     "output_type": "execute_result"
    }
   ],
   "source": [
    "X_train.shape"
   ]
  },
  {
   "cell_type": "markdown",
   "metadata": {},
   "source": [
    "## Create a model using the Sequential API"
   ]
  },
  {
   "cell_type": "code",
   "execution_count": 5,
   "metadata": {},
   "outputs": [],
   "source": [
    "model = keras.models.Sequential()\n",
    "# Input layer:\n",
    "model.add(keras.layers.Flatten(input_shape=[28, 28]))\n",
    "\n",
    "# Hidden layers:\n",
    "for layer in range(3):\n",
    "    model.add(keras.layers.Dense(100, activation=\"relu\"))\n",
    "        \n",
    "# Output layer.\n",
    "model.add(keras.layers.Dense(10, activation=\"softmax\"))"
   ]
  },
  {
   "cell_type": "markdown",
   "metadata": {},
   "source": [
    "## Compile the model\n",
    "You must at least specify the loss function and the optimizer to use. You can also specify a list of additional metrics to use during training and evaluation."
   ]
  },
  {
   "cell_type": "code",
   "execution_count": 6,
   "metadata": {},
   "outputs": [],
   "source": [
    "# The optimixer is Stochastic Gradient Descent with momentum optimization. The momentum is set to 0.9.\n",
    "# This value usually works well in practice. We use the default learning rate (0.01).\n",
    "model.compile(loss=\"sparse_categorical_crossentropy\",\n",
    "              optimizer=keras.optimizers.SGD(momentum=0.9),\n",
    "              metrics=[\"accuracy\"])"
   ]
  },
  {
   "cell_type": "markdown",
   "metadata": {},
   "source": [
    "## Train the model"
   ]
  },
  {
   "cell_type": "code",
   "execution_count": 7,
   "metadata": {
    "scrolled": true
   },
   "outputs": [
    {
     "name": "stdout",
     "output_type": "stream",
     "text": [
      "Epoch 1/40\n",
      "   1/1719 [..............................] - ETA: 5:29 - loss: 2.2756 - accuracy: 0.0312"
     ]
    },
    {
     "name": "stderr",
     "output_type": "stream",
     "text": [
      "2023-09-27 07:43:47.034099: W tensorflow/tsl/platform/profile_utils/cpu_utils.cc:128] Failed to get CPU frequency: 0 Hz\n"
     ]
    },
    {
     "name": "stdout",
     "output_type": "stream",
     "text": [
      "1719/1719 [==============================] - 1s 732us/step - loss: 0.5468 - accuracy: 0.8006 - val_loss: 0.3929 - val_accuracy: 0.8596\n",
      "Epoch 2/40\n",
      "1719/1719 [==============================] - 1s 664us/step - loss: 0.3941 - accuracy: 0.8553 - val_loss: 0.4197 - val_accuracy: 0.8488\n",
      "Epoch 3/40\n",
      "1719/1719 [==============================] - 1s 669us/step - loss: 0.3569 - accuracy: 0.8676 - val_loss: 0.3415 - val_accuracy: 0.8736\n",
      "Epoch 4/40\n",
      "1719/1719 [==============================] - 1s 666us/step - loss: 0.3328 - accuracy: 0.8772 - val_loss: 0.3172 - val_accuracy: 0.8820\n",
      "Epoch 5/40\n",
      "1719/1719 [==============================] - 1s 677us/step - loss: 0.3159 - accuracy: 0.8826 - val_loss: 0.3221 - val_accuracy: 0.8820\n",
      "Epoch 6/40\n",
      "1719/1719 [==============================] - 1s 673us/step - loss: 0.3007 - accuracy: 0.8887 - val_loss: 0.3450 - val_accuracy: 0.8818\n",
      "Epoch 7/40\n",
      "1719/1719 [==============================] - 1s 687us/step - loss: 0.2923 - accuracy: 0.8908 - val_loss: 0.3182 - val_accuracy: 0.8864\n",
      "Epoch 8/40\n",
      "1719/1719 [==============================] - 1s 681us/step - loss: 0.2794 - accuracy: 0.8945 - val_loss: 0.3200 - val_accuracy: 0.8804\n",
      "Epoch 9/40\n",
      "1719/1719 [==============================] - 1s 673us/step - loss: 0.2712 - accuracy: 0.8978 - val_loss: 0.3130 - val_accuracy: 0.8888\n",
      "Epoch 10/40\n",
      "1719/1719 [==============================] - 1s 673us/step - loss: 0.2590 - accuracy: 0.9027 - val_loss: 0.3109 - val_accuracy: 0.8912\n",
      "Epoch 11/40\n",
      "1719/1719 [==============================] - 1s 675us/step - loss: 0.2523 - accuracy: 0.9043 - val_loss: 0.3120 - val_accuracy: 0.8854\n",
      "Epoch 12/40\n",
      "1719/1719 [==============================] - 1s 675us/step - loss: 0.2453 - accuracy: 0.9059 - val_loss: 0.3349 - val_accuracy: 0.8798\n",
      "Epoch 13/40\n",
      "1719/1719 [==============================] - 1s 673us/step - loss: 0.2389 - accuracy: 0.9097 - val_loss: 0.2977 - val_accuracy: 0.8926\n",
      "Epoch 14/40\n",
      "1719/1719 [==============================] - 1s 672us/step - loss: 0.2311 - accuracy: 0.9117 - val_loss: 0.3127 - val_accuracy: 0.8866\n",
      "Epoch 15/40\n",
      "1719/1719 [==============================] - 1s 677us/step - loss: 0.2263 - accuracy: 0.9146 - val_loss: 0.3124 - val_accuracy: 0.8886\n",
      "Epoch 16/40\n",
      "1719/1719 [==============================] - 1s 700us/step - loss: 0.2227 - accuracy: 0.9165 - val_loss: 0.3172 - val_accuracy: 0.8892\n",
      "Epoch 17/40\n",
      "1719/1719 [==============================] - 1s 687us/step - loss: 0.2155 - accuracy: 0.9174 - val_loss: 0.3153 - val_accuracy: 0.8918\n",
      "Epoch 18/40\n",
      "1719/1719 [==============================] - 1s 686us/step - loss: 0.2107 - accuracy: 0.9202 - val_loss: 0.3212 - val_accuracy: 0.8948\n",
      "Epoch 19/40\n",
      "1719/1719 [==============================] - 1s 685us/step - loss: 0.2053 - accuracy: 0.9211 - val_loss: 0.3113 - val_accuracy: 0.8946\n",
      "Epoch 20/40\n",
      "1719/1719 [==============================] - 1s 680us/step - loss: 0.2013 - accuracy: 0.9221 - val_loss: 0.3140 - val_accuracy: 0.8952\n",
      "Epoch 21/40\n",
      "1719/1719 [==============================] - 1s 732us/step - loss: 0.1978 - accuracy: 0.9246 - val_loss: 0.3329 - val_accuracy: 0.8922\n",
      "Epoch 22/40\n",
      "1719/1719 [==============================] - 1s 676us/step - loss: 0.1940 - accuracy: 0.9256 - val_loss: 0.3412 - val_accuracy: 0.8922\n",
      "Epoch 23/40\n",
      "1719/1719 [==============================] - 1s 678us/step - loss: 0.1889 - accuracy: 0.9279 - val_loss: 0.3601 - val_accuracy: 0.8868\n"
     ]
    }
   ],
   "source": [
    "# EarlyStopping (with rollback to the best model).\n",
    "early_stopping = keras.callbacks.EarlyStopping(patience=10, restore_best_weights=True)\n",
    "\n",
    "# Train the model with early stopping.\n",
    "history = model.fit(X_train, y_train, epochs=40,\n",
    "                    validation_data=(X_valid, y_valid),\n",
    "                    callbacks=[early_stopping])"
   ]
  },
  {
   "cell_type": "code",
   "execution_count": 8,
   "metadata": {},
   "outputs": [
    {
     "data": {
      "image/png": "[encoded data removed]",
      "text/plain": [
       "<Figure size 800x500 with 1 Axes>"
      ]
     },
     "metadata": {},
     "output_type": "display_data"
    }
   ],
   "source": [
    "# Show the learning curves.\n",
    "# (The training curves should be shifted half an epoch to the left to be completely comparable with\n",
    "# the validation curves).\n",
    "\n",
    "pd.DataFrame(history.history).plot(figsize=(8, 5))\n",
    "plt.grid(True)\n",
    "plt.gca().set_ylim(0, 1)\n",
    "plt.show()"
   ]
  },
  {
   "cell_type": "markdown",
   "metadata": {},
   "source": [
    "## Evaluate the model."
   ]
  },
  {
   "cell_type": "code",
   "execution_count": 9,
   "metadata": {},
   "outputs": [
    {
     "name": "stdout",
     "output_type": "stream",
     "text": [
      "313/313 [==============================] - 0s 441us/step - loss: 0.3309 - accuracy: 0.8844\n"
     ]
    },
    {
     "data": {
      "text/plain": [
       "[0.33088916540145874, 0.8844000101089478]"
      ]
     },
     "execution_count": 9,
     "metadata": {},
     "output_type": "execute_result"
    }
   ],
   "source": [
    "model.evaluate(X_test, y_test)"
   ]
  }
 ],
 "metadata": {
  "kernelspec": {
   "display_name": "Python 3 (ipykernel)",
   "language": "python",
   "name": "python3"
  },
  "language_info": {
   "codemirror_mode": {
    "name": "ipython",
    "version": 3
   },
   "file_extension": ".py",
   "mimetype": "text/x-python",
   "name": "python",
   "nbconvert_exporter": "python",
   "pygments_lexer": "ipython3",
   "version": "3.10.14"
  },
  "nav_menu": {
   "height": "264px",
   "width": "369px"
  },
  "toc": {
   "navigate_menu": true,
   "number_sections": true,
   "sideBar": true,
   "threshold": 6,
   "toc_cell": false,
   "toc_section_display": "block",
   "toc_window_display": false
  }
 },
 "nbformat": 4,
 "nbformat_minor": 4
}
