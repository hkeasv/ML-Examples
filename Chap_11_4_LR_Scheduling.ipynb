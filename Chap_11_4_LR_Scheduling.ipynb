{
 "cells": [
  {
   "cell_type": "markdown",
   "metadata": {},
   "source": [
    "# Training using the Fashion MNIST dataset\n",
    "We will train and evaluate an MLP on the Fashion MNIST dataset. It consists of 70.000 grayscale images of 28x28 pixels each, and there are 10 classes.\n",
    "\n",
    "Hyperparameters:\n",
    "1. Optimizer: Momentum optimization\n",
    "2. Activation function: RELU\n",
    "3. Weight initialization: Default (glorot_uniform)\n",
    "4. Learning rate schedule: Performance scheduling"
   ]
  },
  {
   "cell_type": "markdown",
   "metadata": {},
   "source": [
    "## Setup"
   ]
  },
  {
   "cell_type": "code",
   "execution_count": 1,
   "metadata": {},
   "outputs": [],
   "source": [
    "# Common imports\n",
    "import sys\n",
    "import os\n",
    "import sklearn\n",
    "import numpy as np\n",
    "import pandas as pd\n",
    "import tensorflow as tf\n",
    "from tensorflow import keras\n",
    "\n",
    "# to make this notebook's output stable across runs\n",
    "np.random.seed(42)\n",
    "tf.random.set_seed(42)\n",
    "\n",
    "# To plot pretty figures\n",
    "%matplotlib inline\n",
    "import matplotlib.pyplot as plt\n",
    "\n",
    "# Ignore useless warnings (see SciPy issue #5998)\n",
    "import warnings\n",
    "warnings.filterwarnings(action=\"ignore\", message=\"^internal gelsd\")"
   ]
  },
  {
   "cell_type": "markdown",
   "metadata": {},
   "source": [
    "## Load the data"
   ]
  },
  {
   "cell_type": "code",
   "execution_count": 2,
   "metadata": {},
   "outputs": [],
   "source": [
    "fashion_mnist = keras.datasets.fashion_mnist\n",
    "(X_train_full, y_train_full), (X_test, y_test) = fashion_mnist.load_data()"
   ]
  },
  {
   "cell_type": "code",
   "execution_count": 3,
   "metadata": {},
   "outputs": [],
   "source": [
    "# Split the full training set into a validation set and a (smaller) training set.\n",
    "# Normalize the data\n",
    "X_valid, X_train = X_train_full[:5000] / 255.0, X_train_full[5000:] / 255.0\n",
    "y_valid, y_train = y_train_full[:5000], y_train_full[5000:]\n",
    "X_test = X_test / 255.0"
   ]
  },
  {
   "cell_type": "code",
   "execution_count": 4,
   "metadata": {},
   "outputs": [
    {
     "data": {
      "text/plain": [
       "(55000, 28, 28)"
      ]
     },
     "execution_count": 4,
     "metadata": {},
     "output_type": "execute_result"
    }
   ],
   "source": [
    "X_train.shape"
   ]
  },
  {
   "cell_type": "markdown",
   "metadata": {},
   "source": [
    "## Create a model using the Sequential API"
   ]
  },
  {
   "cell_type": "code",
   "execution_count": 5,
   "metadata": {},
   "outputs": [],
   "source": [
    "model = keras.models.Sequential()\n",
    "# Input layer:\n",
    "model.add(keras.layers.Flatten(input_shape=[28, 28]))\n",
    "\n",
    "# Hidden layers:\n",
    "for layer in range(3):\n",
    "    model.add(keras.layers.Dense(100, activation=\"relu\"))\n",
    "        \n",
    "# Output layer.\n",
    "model.add(keras.layers.Dense(10, activation=\"softmax\"))"
   ]
  },
  {
   "cell_type": "markdown",
   "metadata": {},
   "source": [
    "## Compile the model\n",
    "You must at least specify the loss function and the optimizer to use. You can also specify a list of additional metrics to use during training and evaluation."
   ]
  },
  {
   "cell_type": "code",
   "execution_count": 6,
   "metadata": {},
   "outputs": [],
   "source": [
    "# The optimixer is Stochastic Gradient Descent with momentum optimization. The momentum is set to 0.9.\n",
    "# This value usually works well in practice. We use the default learning rate (0.01).\n",
    "model.compile(loss=\"sparse_categorical_crossentropy\",\n",
    "              optimizer=keras.optimizers.SGD(momentum=0.9),\n",
    "              metrics=[\"accuracy\"])"
   ]
  },
  {
   "cell_type": "markdown",
   "metadata": {},
   "source": [
    "## Train the model"
   ]
  },
  {
   "cell_type": "code",
   "execution_count": 7,
   "metadata": {
    "scrolled": true
   },
   "outputs": [
    {
     "name": "stdout",
     "output_type": "stream",
     "text": [
      "Epoch 1/40\n"
     ]
    },
    {
     "name": "stderr",
     "output_type": "stream",
     "text": [
      "2023-09-27 07:49:56.011922: W tensorflow/tsl/platform/profile_utils/cpu_utils.cc:128] Failed to get CPU frequency: 0 Hz\n"
     ]
    },
    {
     "name": "stdout",
     "output_type": "stream",
     "text": [
      "1719/1719 [==============================] - 1s 720us/step - loss: 0.5542 - accuracy: 0.7993 - val_loss: 0.3923 - val_accuracy: 0.8588 - lr: 0.0100\n",
      "Epoch 2/40\n",
      "1719/1719 [==============================] - 1s 654us/step - loss: 0.3935 - accuracy: 0.8548 - val_loss: 0.4387 - val_accuracy: 0.8442 - lr: 0.0100\n",
      "Epoch 3/40\n",
      "1719/1719 [==============================] - 1s 652us/step - loss: 0.3578 - accuracy: 0.8670 - val_loss: 0.3413 - val_accuracy: 0.8772 - lr: 0.0100\n",
      "Epoch 4/40\n",
      "1719/1719 [==============================] - 1s 646us/step - loss: 0.3327 - accuracy: 0.8766 - val_loss: 0.3337 - val_accuracy: 0.8760 - lr: 0.0100\n",
      "Epoch 5/40\n",
      "1719/1719 [==============================] - 1s 657us/step - loss: 0.3165 - accuracy: 0.8826 - val_loss: 0.3181 - val_accuracy: 0.8814 - lr: 0.0100\n",
      "Epoch 6/40\n",
      "1719/1719 [==============================] - 1s 657us/step - loss: 0.3016 - accuracy: 0.8879 - val_loss: 0.3434 - val_accuracy: 0.8782 - lr: 0.0100\n",
      "Epoch 7/40\n",
      "1719/1719 [==============================] - 1s 651us/step - loss: 0.2903 - accuracy: 0.8919 - val_loss: 0.3194 - val_accuracy: 0.8832 - lr: 0.0100\n",
      "Epoch 8/40\n",
      "1719/1719 [==============================] - 1s 649us/step - loss: 0.2804 - accuracy: 0.8954 - val_loss: 0.3155 - val_accuracy: 0.8828 - lr: 0.0100\n",
      "Epoch 9/40\n",
      "1719/1719 [==============================] - 1s 651us/step - loss: 0.2713 - accuracy: 0.8989 - val_loss: 0.3316 - val_accuracy: 0.8802 - lr: 0.0100\n",
      "Epoch 10/40\n",
      "1719/1719 [==============================] - 1s 647us/step - loss: 0.2604 - accuracy: 0.9017 - val_loss: 0.3085 - val_accuracy: 0.8908 - lr: 0.0100\n",
      "Epoch 11/40\n",
      "1719/1719 [==============================] - 1s 647us/step - loss: 0.2522 - accuracy: 0.9037 - val_loss: 0.3233 - val_accuracy: 0.8870 - lr: 0.0100\n",
      "Epoch 12/40\n",
      "1719/1719 [==============================] - 1s 653us/step - loss: 0.2471 - accuracy: 0.9055 - val_loss: 0.3196 - val_accuracy: 0.8830 - lr: 0.0100\n",
      "Epoch 13/40\n",
      "1719/1719 [==============================] - 1s 649us/step - loss: 0.2400 - accuracy: 0.9098 - val_loss: 0.3047 - val_accuracy: 0.8898 - lr: 0.0100\n",
      "Epoch 14/40\n",
      "1719/1719 [==============================] - 1s 653us/step - loss: 0.2335 - accuracy: 0.9111 - val_loss: 0.3266 - val_accuracy: 0.8788 - lr: 0.0100\n",
      "Epoch 15/40\n",
      "1719/1719 [==============================] - 1s 660us/step - loss: 0.2281 - accuracy: 0.9138 - val_loss: 0.3127 - val_accuracy: 0.8866 - lr: 0.0100\n",
      "Epoch 16/40\n",
      "1719/1719 [==============================] - 1s 655us/step - loss: 0.2247 - accuracy: 0.9141 - val_loss: 0.3182 - val_accuracy: 0.8898 - lr: 0.0100\n",
      "Epoch 17/40\n",
      "1719/1719 [==============================] - 1s 649us/step - loss: 0.2184 - accuracy: 0.9168 - val_loss: 0.3198 - val_accuracy: 0.8894 - lr: 0.0100\n",
      "Epoch 18/40\n",
      "1719/1719 [==============================] - 1s 655us/step - loss: 0.1820 - accuracy: 0.9304 - val_loss: 0.3089 - val_accuracy: 0.8940 - lr: 0.0050\n",
      "Epoch 19/40\n",
      "1719/1719 [==============================] - 1s 654us/step - loss: 0.1747 - accuracy: 0.9334 - val_loss: 0.3087 - val_accuracy: 0.8932 - lr: 0.0050\n",
      "Epoch 20/40\n",
      "1719/1719 [==============================] - 1s 654us/step - loss: 0.1701 - accuracy: 0.9349 - val_loss: 0.3058 - val_accuracy: 0.8942 - lr: 0.0050\n",
      "Epoch 21/40\n",
      "1719/1719 [==============================] - 1s 652us/step - loss: 0.1657 - accuracy: 0.9369 - val_loss: 0.3117 - val_accuracy: 0.8956 - lr: 0.0050\n",
      "Epoch 22/40\n",
      "1719/1719 [==============================] - 1s 715us/step - loss: 0.1471 - accuracy: 0.9440 - val_loss: 0.3151 - val_accuracy: 0.8986 - lr: 0.0025\n",
      "Epoch 23/40\n",
      "1719/1719 [==============================] - 1s 658us/step - loss: 0.1431 - accuracy: 0.9460 - val_loss: 0.3094 - val_accuracy: 0.9004 - lr: 0.0025\n"
     ]
    }
   ],
   "source": [
    "# EarlyStopping (with rollback to the best model).\n",
    "early_stopping = keras.callbacks.EarlyStopping(patience=10, restore_best_weights=True)\n",
    "\n",
    "# Performance scheduling\n",
    "# (multiply the learning rate by a factor when the error stops dropping for a number of epochs, called patience)\n",
    "lr_scheduler = keras.callbacks.ReduceLROnPlateau(factor=0.5, patience=4)\n",
    "\n",
    "# Train the model with early stopping or performance scheduling or both. Training is much faster when\n",
    "# early stopping is used, but a slightly better accuracy is achieved with performance scheduling alone.\n",
    "history = model.fit(X_train, y_train, epochs=40,\n",
    "                    validation_data=(X_valid, y_valid),\n",
    "                    callbacks=[lr_scheduler, early_stopping])"
   ]
  },
  {
   "cell_type": "code",
   "execution_count": 8,
   "metadata": {},
   "outputs": [
    {
     "data": {
      "image/png": "[encoded data removed]",
      "text/plain": [
       "<Figure size 800x500 with 1 Axes>"
      ]
     },
     "metadata": {},
     "output_type": "display_data"
    }
   ],
   "source": [
    "# Show the learning curves.\n",
    "# (The training curves should be shifted half an epoch to the left to be completely comparable with\n",
    "# the validation curves).\n",
    "\n",
    "pd.DataFrame(history.history).plot(figsize=(8, 5))\n",
    "plt.grid(True)\n",
    "plt.gca().set_ylim(0, 1)\n",
    "plt.show()"
   ]
  },
  {
   "cell_type": "markdown",
   "metadata": {},
   "source": [
    "## Evaluate the model."
   ]
  },
  {
   "cell_type": "code",
   "execution_count": 9,
   "metadata": {},
   "outputs": [
    {
     "name": "stdout",
     "output_type": "stream",
     "text": [
      "313/313 [==============================] - 0s 411us/step - loss: 0.3372 - accuracy: 0.8805\n"
     ]
    },
    {
     "data": {
      "text/plain": [
       "[0.33716854453086853, 0.8805000185966492]"
      ]
     },
     "execution_count": 9,
     "metadata": {},
     "output_type": "execute_result"
    }
   ],
   "source": [
    "model.evaluate(X_test, y_test)"
   ]
  }
 ],
 "metadata": {
  "kernelspec": {
   "display_name": "Python 3 (ipykernel)",
   "language": "python",
   "name": "python3"
  },
  "language_info": {
   "codemirror_mode": {
    "name": "ipython",
    "version": 3
   },
   "file_extension": ".py",
   "mimetype": "text/x-python",
   "name": "python",
   "nbconvert_exporter": "python",
   "pygments_lexer": "ipython3",
   "version": "3.10.14"
  },
  "nav_menu": {
   "height": "264px",
   "width": "369px"
  },
  "toc": {
   "navigate_menu": true,
   "number_sections": true,
   "sideBar": true,
   "threshold": 6,
   "toc_cell": false,
   "toc_section_display": "block",
   "toc_window_display": false
  }
 },
 "nbformat": 4,
 "nbformat_minor": 4
}
